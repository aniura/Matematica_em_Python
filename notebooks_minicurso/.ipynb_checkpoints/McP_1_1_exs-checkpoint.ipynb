{
 "cells": [
  {
   "cell_type": "markdown",
   "id": "0c5b8f04",
   "metadata": {},
   "source": [
    "# Minicurso: Matemática com Python\n",
    "\n",
    "\n",
    "## Parte 1 do primeiro encontro. Exercícios."
   ]
  },
  {
   "cell_type": "markdown",
   "id": "55d6a575",
   "metadata": {},
   "source": [
    "### Exercício 1: \n",
    "\n",
    "Faça um ciclo para determinar se cada número inteiro entre -5 e 5 é par ou ímpar. Sugerimos usar o comando `%` para determinar a paridade.\n",
    "\n",
    "Os resultados devem ser impressos da forma:\n",
    "+ *5 é um número ímpar*, \n",
    "+ *2 é um número par*."
   ]
  },
  {
   "cell_type": "code",
   "execution_count": 1,
   "id": "f537d921",
   "metadata": {},
   "outputs": [],
   "source": [
    "#Solução:"
   ]
  },
  {
   "cell_type": "markdown",
   "id": "3b63d899",
   "metadata": {},
   "source": [
    "### Exercício 2:\n",
    "\n",
    "(a) Construa uma nova função \"F aprimorada (F_a) que transforme graus Celsius em Farenheit de forma que, se $C < -273.15$, \n",
    "\n",
    "+ sejam impressas as frases: \"O valor C (valor inserido) não faz sentido físico.\", \"A temperatura em Farenheit não será calculada.\";\n",
    "+ seja retornado como valor de F(C), o valor NaN ( = float('nan')), que é usado em Python para representar valores numéricos indefinidos ou inválidos.\n",
    "\n",
    "Se $C \\geq -273.15$, deve ser aplicada a fórmula.\n",
    "\n",
    "(b) Avalie F_a nos valores $C_1 = 0, C_2 = 30.2$ e $C_1 = -400$."
   ]
  },
  {
   "cell_type": "code",
   "execution_count": 2,
   "id": "c057b0b2",
   "metadata": {},
   "outputs": [],
   "source": [
    "#Solução:\n"
   ]
  },
  {
   "cell_type": "code",
   "execution_count": null,
   "id": "7f7612bb",
   "metadata": {},
   "outputs": [],
   "source": []
  }
 ],
 "metadata": {
  "kernelspec": {
   "display_name": "Python 3 (ipykernel)",
   "language": "python",
   "name": "python3"
  },
  "language_info": {
   "codemirror_mode": {
    "name": "ipython",
    "version": 3
   },
   "file_extension": ".py",
   "mimetype": "text/x-python",
   "name": "python",
   "nbconvert_exporter": "python",
   "pygments_lexer": "ipython3",
   "version": "3.11.5"
  }
 },
 "nbformat": 4,
 "nbformat_minor": 5
}
