{
 "cells": [
  {
   "cell_type": "markdown",
   "id": "9a4c5fb3",
   "metadata": {},
   "source": [
    "# Variações de uma arara.\n",
    "\n",
    "## Autor: [Hamid Naderi Yeganeh](https://en.wikipedia.org/wiki/Hamid_Naderi_Yeganeh)\n",
    "\n",
    "## https://www.huffpost.com/entry/mathematical-birds_b_8876904"
   ]
  },
  {
   "cell_type": "code",
   "execution_count": null,
   "id": "cc6010ab",
   "metadata": {},
   "outputs": [],
   "source": [
    "#Importamos as bibliotecas e módulos que vamos usar.\n",
    "import matplotlib.pyplot as plt\n",
    "import numpy as np\n",
    "\n",
    "from matplotlib.pyplot import cm\n",
    "\n",
    "%matplotlib inline\n",
    "\n",
    "#Módulo para fazer animações\n",
    "import matplotlib.animation as animation\n",
    "\n",
    "#Função para visualizar dados \n",
    "from IPython.display import Latex, Math, HTML\n",
    "\n",
    "# Tamanho da fonte\n",
    "plt.rcParams['font.size'] = 12\n",
    "plt.rcParams['font.family'] = 'sans-serif'\n",
    "plt.rcParams[\"animation.html\"] = \"jshtml\"\n",
    "plt.rcParams['figure.dpi'] = 100 "
   ]
  },
  {
   "cell_type": "code",
   "execution_count": null,
   "id": "b7cc6c80",
   "metadata": {},
   "outputs": [],
   "source": [
    "# Arranjo com a grade de cores\n",
    "\n",
    "#cores = cm.rainbow(np.linspace(0,1,10001))\n",
    "cores = cm.rainbow(np.square(np.linspace(0,1,10001)))"
   ]
  },
  {
   "cell_type": "code",
   "execution_count": null,
   "id": "47b6cbc1",
   "metadata": {},
   "outputs": [],
   "source": [
    "# Coordenadas dos centros dos círculos\n",
    "\n",
    "def A(k):\n",
    "    return (3 * k / 20000) + (np.cos(37 * (np.pi) * k / 10000)) ** 6 * np.sin((k / 10000) ** 7 * (3 * np.pi / 5)) + \\\n",
    "           (9 / 7) * (np.cos(37 * np.pi * k / 10000)) ** 16 * (np.cos(np.pi * k / 20000)) ** 12 * np.sin(\n",
    "        np.pi * k / 10000)\n",
    "\n",
    "\n",
    "def B(k):\n",
    "    return (-5 / 4) * (np.cos(37 * np.pi * k / 10000)) ** 6 * np.cos((k / 10000) ** 7 * (3 * np.pi / 5)) * \\\n",
    "           (1 + 3 * (np.cos(np.pi * k / 20000) * np.cos(3 * np.pi * k / 20000)) ** 8) + \\\n",
    "           (2 / 3) * (np.cos(3 * np.pi * k / 200000) * np.cos(9 * np.pi * k / 200000) * np.cos(\n",
    "        9 * np.pi * k / 100000)) ** 12"
   ]
  },
  {
   "cell_type": "code",
   "execution_count": null,
   "id": "028a685d",
   "metadata": {},
   "outputs": [],
   "source": [
    "# Raio dos círculos\n",
    "\n",
    "def R(k):\n",
    "    return (1 / 32) + (1 / 15) * (np.sin(37 * np.pi * k / 10000)) ** 2 * ((np.sin(np.pi * k / 10000)) ** 2 + \\\n",
    "                                                                          (3 / 2) * (np.cos(np.pi * k / 20000)) ** 18)"
   ]
  },
  {
   "cell_type": "code",
   "execution_count": null,
   "id": "7eac3416",
   "metadata": {},
   "outputs": [],
   "source": [
    "# Centros dos círculos e raios para os gráficos\n",
    "\n",
    "kvalues = np.linspace(-10000, 10000, 20001)\n",
    "xvalues = A(kvalues)\n",
    "yvalues = B(kvalues)\n",
    "rvalues = R(kvalues)"
   ]
  },
  {
   "cell_type": "code",
   "execution_count": null,
   "id": "319b5c8f",
   "metadata": {},
   "outputs": [],
   "source": [
    "# Imagem da arara\n",
    "\n",
    "fig, ax = plt.subplots(figsize=(10.0, 10.0))\n",
    "\n",
    "# limites em x e y\n",
    "\n",
    "ax.set_xlim(-3, 3)\n",
    "ax.set_ylim(-5, 2)\n",
    "\n",
    "# geração dos círculos coloridos\n",
    "for k in range(0,10001):\n",
    "    #Parte esquerda da arara\n",
    "    circle = plt.Circle((xvalues[k], yvalues[k]), rvalues[k], color = cores[k], alpha = 0.7, fill = False, lw = 1)\n",
    "    ax.add_patch(circle)\n",
    "    #Parte direita da arara\n",
    "    circle = plt.Circle((xvalues[20000-k], yvalues[20000-k]), rvalues[20000-k], color = cores[k], \n",
    "                        alpha = 0.7, fill = False, lw = 1)    \n",
    "    ax.add_patch(circle)\n",
    "    \n",
    "# esconder os eixos e o fundo\n",
    "\n",
    "fig.patch.set_visible(False)\n",
    "ax.axis('off')\n",
    "\n",
    "# mostrar a imagem\n",
    "\n",
    "plt.show()"
   ]
  },
  {
   "cell_type": "code",
   "execution_count": null,
   "id": "1b7f3b40",
   "metadata": {},
   "outputs": [],
   "source": [
    "# Animação da arara\n",
    "\n",
    "fig, ax = plt.subplots(figsize=(6.0, 7.0), dpi=200)\n",
    "\n",
    "# limites em x e y\n",
    "\n",
    "ax.set_xlim(-3, 3)\n",
    "ax.set_ylim(-5, 2)\n",
    "\n",
    "# esconder os eixos e o fundo\n",
    "\n",
    "fig.patch.set_visible(False)\n",
    "ax.axis('off')\n",
    "\n",
    "def init():\n",
    "    # initialize an empty list of circles\n",
    "    return []\n",
    "\n",
    "#Atualização do gráfico\n",
    "#Círculos da arara\n",
    "def update(passo):\n",
    "    patches = []\n",
    "    for k in range(0,10001, passo):\n",
    "        #Parte esquerda da arara\n",
    "        circle = plt.Circle((xvalues[k], yvalues[k]), rvalues[k], color = cores[k], alpha = 0.7, fill = False, lw = 1)\n",
    "        patches.append(ax.add_patch(circle))\n",
    "        #Parte direita da arara\n",
    "        circle = plt.Circle((xvalues[20000-k], yvalues[20000-k]), rvalues[20000-k], color = cores[k], \n",
    "                        alpha = 0.7, fill = False, lw = 1)    \n",
    "        patches.append(ax.add_patch(circle))\n",
    "    return patches\n",
    "\n",
    "#ani é uma instância da classe FuncAnimation\n",
    "ani = animation.FuncAnimation(fig, update, init_func=init, \n",
    "                              frames = [10000, 5000, 4000, 2000, 1000, \n",
    "                                        500, 400, 200, 100, \n",
    "                                        50, 40, 20, 10, \n",
    "                                        5, 4, 2, 1],\n",
    "                    blit=True, interval = 300)\n",
    "\n",
    "#Não queremos mostrar a figura\n",
    "plt.close()\n",
    "#Mostrar a animação\n",
    "ani\n",
    "#ani.save(\"arara_colorida.mp4\", writer=\"ffmpeg\")    "
   ]
  },
  {
   "cell_type": "markdown",
   "id": "d3b1885a",
   "metadata": {},
   "source": []
  }
 ],
 "metadata": {
  "kernelspec": {
   "display_name": "Python 3 (ipykernel)",
   "language": "python",
   "name": "python3"
  },
  "language_info": {
   "codemirror_mode": {
    "name": "ipython",
    "version": 3
   },
   "file_extension": ".py",
   "mimetype": "text/x-python",
   "name": "python",
   "nbconvert_exporter": "python",
   "pygments_lexer": "ipython3",
   "version": "3.11.5"
  }
 },
 "nbformat": 4,
 "nbformat_minor": 5
}
