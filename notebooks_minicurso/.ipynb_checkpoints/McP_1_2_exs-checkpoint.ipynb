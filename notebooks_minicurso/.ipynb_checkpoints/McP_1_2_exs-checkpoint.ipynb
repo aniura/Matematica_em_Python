{
 "cells": [
  {
   "cell_type": "markdown",
   "id": "0c5b8f04",
   "metadata": {},
   "source": [
    "# Minicurso: Matemática com Python\n",
    "\n",
    "\n",
    "## Parte 2 do primeiro encontro. Exercícios."
   ]
  },
  {
   "cell_type": "markdown",
   "id": "55d6a575",
   "metadata": {},
   "source": [
    "### Exercício 1: \n",
    "\n",
    "Escreva um código que produza a figura abaixo.\n",
    "\n",
    "<img src=\"imagens/quadrados.png\" alt=\"Drawing\" style=\"width: 400px;\"/>\n",
    "\n",
    "**Sugestão**: Use as cores `tab:orange`, `tab:blue` e `tab:green`."
   ]
  },
  {
   "cell_type": "code",
   "execution_count": null,
   "id": "0916cf87",
   "metadata": {},
   "outputs": [],
   "source": [
    "#Solução:"
   ]
  },
  {
   "cell_type": "markdown",
   "id": "3b63d899",
   "metadata": {},
   "source": [
    "### Exercício 2:\n",
    "\n",
    "Modifique o código do último exemplo para plotar as coordenadas e a trajetória de uma partícula que se move sobre a elipse\n",
    "\n",
    "$\n",
    "\\begin{cases}\n",
    " x(t) & = 4 \\cos t\\\\\n",
    " y(t) & = 3 \\,\\text{sen } t, -\\pi \\leq t \\leq \\pi. \n",
    "\\end{cases}\n",
    "$\n",
    "\n",
    "Você deve obter um gráfico similar ao mostrado abaixo.\n",
    "\n",
    "<img src=\"imagens/elipse.png\" alt=\"Drawing\" style=\"width: 900px;\"/>"
   ]
  },
  {
   "cell_type": "code",
   "execution_count": null,
   "id": "c057b0b2",
   "metadata": {},
   "outputs": [],
   "source": [
    "#Solução:"
   ]
  }
 ],
 "metadata": {
  "kernelspec": {
   "display_name": "Python 3 (ipykernel)",
   "language": "python",
   "name": "python3"
  },
  "language_info": {
   "codemirror_mode": {
    "name": "ipython",
    "version": 3
   },
   "file_extension": ".py",
   "mimetype": "text/x-python",
   "name": "python",
   "nbconvert_exporter": "python",
   "pygments_lexer": "ipython3",
   "version": "3.11.5"
  }
 },
 "nbformat": 4,
 "nbformat_minor": 5
}
