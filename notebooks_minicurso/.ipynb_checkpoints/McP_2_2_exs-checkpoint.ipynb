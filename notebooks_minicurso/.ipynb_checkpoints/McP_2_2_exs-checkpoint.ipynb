{
 "cells": [
  {
   "cell_type": "markdown",
   "id": "513ed9f0",
   "metadata": {},
   "source": [
    "# Minicurso: Matemática com Python\n",
    "\n",
    "\n",
    "## Parte 2 do segundo encontro. Exercício."
   ]
  },
  {
   "cell_type": "markdown",
   "id": "6299f7aa",
   "metadata": {},
   "source": [
    "Já entendemos uma maneira de criar a figura abaixo.\n",
    "\n",
    "<img src=\"imagens/ilusao_otica.svg\" alt=\"Drawing\" style=\"width: 500px;\"/>\n",
    "\n",
    "Agora, você vai modificar o código utilizado, usando uma outra função de Python que vai simplificar muito sua tarefa e também, o código final.\n",
    "\n",
    "Há várias outras maneiras de plotar quadrados usando o módulo `matplotlib.patches`. Por exemplo, também é possível utilizar a função `RegularPolygon`. Ela que utiliza como argumentos, entre outros, \n",
    "\n",
    "+ xy(float, float): Coordenadas do centro.\n",
    "\n",
    "+ numVertices(int): Quantidade de vértices.\n",
    "\n",
    "+ radius (=raio) (float): Distância do centro a cada um dos vértices.\n",
    "    \n",
    "+ orientation (float): Ângulo de rotação do polígono (em radianos).\n",
    "\n",
    "Portanto, a rotação pode ser realizada através de um parâmetro."
   ]
  },
  {
   "cell_type": "markdown",
   "id": "fe671687",
   "metadata": {},
   "source": [
    "### Exercício: \n",
    "\n",
    "Modifique o código que cria a figura acima, de forma a obter a mesma figura, usando a função `RegularPolygon` e sem usar matrizes de rotação.\n",
    "\n",
    "Segue um exemplo para ajudar."
   ]
  },
  {
   "cell_type": "code",
   "execution_count": 1,
   "id": "b4905d0c",
   "metadata": {},
   "outputs": [],
   "source": [
    "#Importamos as bibliotecas que usaremos.\n",
    "import numpy as np\n",
    "import matplotlib.pyplot as plt\n",
    "import matplotlib.patches as mpatches"
   ]
  },
  {
   "cell_type": "code",
   "execution_count": 2,
   "id": "5dd9eae8",
   "metadata": {},
   "outputs": [
    {
     "data": {
      "image/png": "[encoded data removed]",
      "text/plain": [
       "<Figure size 700x700 with 1 Axes>"
      ]
     },
     "metadata": {},
     "output_type": "display_data"
    }
   ],
   "source": [
    "figsize = (7, 7)\n",
    "colunas = 1\n",
    "linhas = 1\n",
    "#Criar os objetos fig e ax\n",
    "fig, ax = plt.subplots(linhas, colunas, figsize=figsize)\n",
    "\n",
    "quadrado = mpatches.RegularPolygon((0,0), 4, radius=np.sqrt(2), orientation = -np.pi/4, color = 'tab:red')\n",
    "ax.add_patch(quadrado)\n",
    "   \n",
    "ax.axis([-1.2,1.2,-1.2,1.2])\n",
    "ax.grid()\n",
    "#fig.patch.set_visible(False)    \n",
    "plt.show()"
   ]
  },
  {
   "cell_type": "code",
   "execution_count": 3,
   "id": "26745671",
   "metadata": {},
   "outputs": [],
   "source": [
    "#Solução:\n"
   ]
  },
  {
   "cell_type": "code",
   "execution_count": null,
   "id": "9c46b5bc",
   "metadata": {},
   "outputs": [],
   "source": []
  }
 ],
 "metadata": {
  "kernelspec": {
   "display_name": "Python 3 (ipykernel)",
   "language": "python",
   "name": "python3"
  },
  "language_info": {
   "codemirror_mode": {
    "name": "ipython",
    "version": 3
   },
   "file_extension": ".py",
   "mimetype": "text/x-python",
   "name": "python",
   "nbconvert_exporter": "python",
   "pygments_lexer": "ipython3",
   "version": "3.11.5"
  }
 },
 "nbformat": 4,
 "nbformat_minor": 5
}
