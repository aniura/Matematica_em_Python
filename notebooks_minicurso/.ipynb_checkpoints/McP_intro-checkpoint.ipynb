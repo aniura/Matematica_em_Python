{
 "cells": [
  {
   "cell_type": "markdown",
   "id": "9dd0b127",
   "metadata": {},
   "source": [
    "# Apresentação do minicurso: Matemática com Python\n"
   ]
  },
  {
   "cell_type": "markdown",
   "id": "a3bdd643",
   "metadata": {},
   "source": [
    "## 1.  Python e notebooks Jupyter."
   ]
  },
  {
   "cell_type": "markdown",
   "id": "ca1ed04b",
   "metadata": {},
   "source": [
    "<img src=\"imagens/Python_logo_and_wordmark.svg\" alt=\"Drawing\" style=\"width: 500px;\"/>\n",
    "\n",
    "\n",
    "[Python](https://www.python.org/) é uma linguagem de programação de alto nível ou seja, é relativamente próxima das linguagens humanas naturais.\n",
    "\n",
    "\n",
    "+ Por que o nome?\n",
    "\n",
    "Quando ele começou a implementar Python, [Guido van Rossum](https://pt.wikipedia.org/wiki/Guido_van_Rossum) também estava lendo os roteiros publicados de “Monty Python’s Flying Circus”, uma comédia da BBC nos anos 1970. Van Rossum achou que necessitava um nome que fosse curto, único e levemente misterioso. Assim, decidiu chamar a linguagem de Python.\n",
    "\n",
    "+ Por que usar Python?\n",
    "\n",
    "Nas áreas de ciências e nas engenharias, as linguagens mais usadas são Python, MATLAB, Octave, Fortran, C, C++, Maple e Mathematica. Python possui uma sintaxe muito simples e consistente e uma grande quantidade de bibliotecas padrão.  Além disso, tem um bom suporte para usar código escrito em outras linguagens como C, C++ e Fortran e é disponibilizado de forma gratuita. \n",
    "\n",
    "+ Como executar código escrito em Python?\n",
    "\n",
    "Há várias formas de fazer isto. Uma maneira é usando notebooks Jupyter.\n",
    "\n",
    "<img src=\"imagens/jupyter_logo.png\" alt=\"Drawing\" style=\"width: 500px;\"/>\n",
    "\n",
    "Uma notebook Jupyter é um ambiente computacional web para criação de documentos para a [plataforma Jupyter](https://jupyter.org/). Esses documentos são estruturados em formato [JSON](https://pt.wikipedia.org/wiki/JSON), contendo uma lista ordenada de células de entrada / saída que podem conter, por exemplo, código, texto (usando Markdown), símbolos matemáticos e gráficos, terminando com a extensão \".ipynb\"."
   ]
  },
  {
   "cell_type": "markdown",
   "id": "fe9899b9",
   "metadata": {},
   "source": [
    "## 2. A oficina.\n",
    "\n",
    "\n",
    "Embora Python seja uma linguagem de propósito geral, ela conta com várias bibliotecas que, combinadas, formam o chamado ecosistema científico de Python. Nesta oficina mostramos como utilizar várias dessas bibliotecas para explorar e ilustrar diferentes conceitos matemáticos.\n",
    "\n",
    "Todas as noções utilizadas são compreensíveis com conhecimentos de Ensino Médio. Assim, esta oficina também constitui uma proposta de uso da tecnologia no ensino e a aprendizagem de matemática nesse nível. A versatilidade da plataforma Jupyter enriquece muito a exposição e estimula a aprendizagem através da experimentação.\n",
    "\n",
    "Serão trabalhadas apenas noções de \n",
    "\n",
    "em cada um dos dois encontros uma imagem/animação como motivação para \n",
    "\n",
    "Análise das possibilidades da linguagem Python para o . Ensino/aprendizagem baseado na experimentação e na resolução de problemas. Uso de bibliotecas específicas para cálculos numéricos e simbólicos e para a produção de gráficos e animações.  Produção de material audiovisual sobre matemática. \n",
    " \n",
    " "
   ]
  },
  {
   "cell_type": "markdown",
   "id": "7f9745c4",
   "metadata": {},
   "source": [
    "## 3. Conteúdo.\n",
    "\n",
    "+ [Parte 1 do primeiro encontro: Operações elementares. Variáveis. Expressões matemáticas. Elementos básicos de programação.](McP_1_1.ipynb) \n",
    "<br>\n",
    "\n",
    "+ [Parte 2 do primeiro encontro: Bibliotecas Matplotlib e NumPy. Plotagem de pontos, funções e curvas.](McP_1_2.ipynb)\n",
    "<br>\n",
    "\n",
    "+ [Parte 1 do segundo encontro: Trabalho com matrizes usando a biblioteca NumPy. Visualização de matrizes.](McP_2_1.ipynb)\n",
    "<br>\n",
    "\n",
    "+ [Parte 2 do segundo encontro: Matrizes de rotação 2D. Aplicação dessas matrizes na criação de uma imagem usando o módulo *matplotib.patches*.](McP_2_2.ipynb) \n",
    "<br>"
   ]
  },
  {
   "cell_type": "markdown",
   "id": "f387ed7d",
   "metadata": {},
   "source": [
    "## 4. Referências\n",
    "\n",
    "+ https://numpy.org/\n",
    "\n",
    "+ https://matplotlib.org/\n",
    "\n",
    "+ https://lectures.scientific-python.org/\n",
    "\n",
    "+ Hans Petter Langtangen. *A Primer on Scientific Programming with Python.* Quinta Edição. Springer. 2016. "
   ]
  },
  {
   "cell_type": "code",
   "execution_count": null,
   "id": "bf644e53",
   "metadata": {},
   "outputs": [],
   "source": []
  }
 ],
 "metadata": {
  "kernelspec": {
   "display_name": "Python 3 (ipykernel)",
   "language": "python",
   "name": "python3"
  },
  "language_info": {
   "codemirror_mode": {
    "name": "ipython",
    "version": 3
   },
   "file_extension": ".py",
   "mimetype": "text/x-python",
   "name": "python",
   "nbconvert_exporter": "python",
   "pygments_lexer": "ipython3",
   "version": "3.11.5"
  }
 },
 "nbformat": 4,
 "nbformat_minor": 5
}
