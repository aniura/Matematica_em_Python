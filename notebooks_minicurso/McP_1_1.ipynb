{
 "cells": [
  {
   "cell_type": "markdown",
   "id": "9cccf185",
   "metadata": {},
   "source": [
    "# Minicurso: Matemática com Python\n",
    "\n",
    "\n",
    "## Parte 1 do primeiro encontro: \n",
    " \n",
    "\n",
    "Conteúdos:\n",
    "\n",
    "\n",
    "[1. Operações elementares em Python.](#sec1)\n",
    "\n",
    "\n",
    "[2. Variáveis.](#sec2)\n",
    "\n",
    "\n",
    "[3.Expressões matemáticas.](#sec3)\n",
    "\n",
    "\n",
    "[4. Elementos básicos de programação: funções de Python, ciclos (loops), condicionais.](#sec4)\n",
    "\n",
    "\n",
    "[5.Referências.](#sec5)\n"
   ]
  },
  {
   "cell_type": "markdown",
   "id": "4d75a4c5",
   "metadata": {},
   "source": [
    "<div id=\"sec1\"></div> \n",
    "\n",
    "## 1. Operações elementares."
   ]
  },
  {
   "cell_type": "markdown",
   "id": "202ca616",
   "metadata": {},
   "source": [
    "Python pode ser usado como uma calculadora: com ele podemos realizar cálculos de maneira bem simples."
   ]
  },
  {
   "cell_type": "markdown",
   "id": "e8358266",
   "metadata": {},
   "source": [
    "### 1.1 Adição e subtração"
   ]
  },
  {
   "cell_type": "code",
   "execution_count": null,
   "id": "8c4ca08e",
   "metadata": {},
   "outputs": [],
   "source": [
    "3 + 5"
   ]
  },
  {
   "cell_type": "code",
   "execution_count": null,
   "id": "5a4d1c46",
   "metadata": {},
   "outputs": [],
   "source": [
    "#Um comentário:\n",
    "#Vale a lei comutativa\n",
    "# \"==\" verifica se vale a igualdade\n",
    "3 + 5 == 5 + 3"
   ]
  },
  {
   "cell_type": "code",
   "execution_count": null,
   "id": "f820ffc9",
   "metadata": {},
   "outputs": [],
   "source": [
    "# \"!=\" verifica se vale a desigualdade\n",
    "3 + 5 != 5 + 3"
   ]
  },
  {
   "cell_type": "markdown",
   "id": "2b149fec",
   "metadata": {},
   "source": [
    "Python considera o resultado como um tipo de dado inteiro, ou `int`."
   ]
  },
  {
   "cell_type": "code",
   "execution_count": null,
   "id": "93060ef6",
   "metadata": {},
   "outputs": [],
   "source": [
    "type(3 + 5)"
   ]
  },
  {
   "cell_type": "code",
   "execution_count": null,
   "id": "ad91d9aa",
   "metadata": {},
   "outputs": [],
   "source": [
    "3 - 5"
   ]
  },
  {
   "cell_type": "code",
   "execution_count": null,
   "id": "a7ea6dd1",
   "metadata": {},
   "outputs": [],
   "source": [
    "type(3 - 5)"
   ]
  },
  {
   "cell_type": "markdown",
   "id": "a34d40f3",
   "metadata": {},
   "source": [
    "### 1.2 Multiplicação e divisão"
   ]
  },
  {
   "cell_type": "code",
   "execution_count": null,
   "id": "af566780",
   "metadata": {},
   "outputs": [],
   "source": [
    "3 * 5"
   ]
  },
  {
   "cell_type": "code",
   "execution_count": null,
   "id": "8e515753",
   "metadata": {},
   "outputs": [],
   "source": [
    "type(3 * 5)"
   ]
  },
  {
   "cell_type": "code",
   "execution_count": null,
   "id": "58624f64",
   "metadata": {},
   "outputs": [],
   "source": [
    "3.1 * 5"
   ]
  },
  {
   "cell_type": "code",
   "execution_count": null,
   "id": "5ca778a5",
   "metadata": {},
   "outputs": [],
   "source": [
    "type(3.1 * 5)"
   ]
  },
  {
   "cell_type": "markdown",
   "id": "2aea3714",
   "metadata": {},
   "source": [
    "Já o valor acima é interpretado por Python como `float`, que corresponde aos números reais não inteiros. "
   ]
  },
  {
   "cell_type": "code",
   "execution_count": null,
   "id": "e0f5309a",
   "metadata": {
    "scrolled": true
   },
   "outputs": [],
   "source": [
    "3 / 5"
   ]
  },
  {
   "cell_type": "code",
   "execution_count": null,
   "id": "55893e56",
   "metadata": {},
   "outputs": [],
   "source": [
    "type(3), type(5), type(3 / 5)"
   ]
  },
  {
   "cell_type": "markdown",
   "id": "b2214cd8",
   "metadata": {},
   "source": [
    "Embora 3 e 5 sejam considerados por Python como inteiros, quando dividimos esses números, o resultado não é e por isso Python o considera como `float`. "
   ]
  },
  {
   "cell_type": "markdown",
   "id": "4ec2a994",
   "metadata": {},
   "source": [
    "Podemos obter o quociente da divisão de dois números inteiros usando o comando `//`."
   ]
  },
  {
   "cell_type": "code",
   "execution_count": null,
   "id": "5ea9ece3",
   "metadata": {},
   "outputs": [],
   "source": [
    "18 // 7"
   ]
  },
  {
   "cell_type": "markdown",
   "id": "19ad87b3",
   "metadata": {},
   "source": [
    "O resto da divisão pode ser obtido usando `%`."
   ]
  },
  {
   "cell_type": "code",
   "execution_count": null,
   "id": "bda4a9da",
   "metadata": {},
   "outputs": [],
   "source": [
    "18 % 7"
   ]
  },
  {
   "cell_type": "markdown",
   "id": "56b18080",
   "metadata": {},
   "source": [
    "Verificamos nossos cálculos:"
   ]
  },
  {
   "cell_type": "code",
   "execution_count": null,
   "id": "215c22cd",
   "metadata": {},
   "outputs": [],
   "source": [
    "18 == 7 * 2 + 4"
   ]
  },
  {
   "cell_type": "code",
   "execution_count": null,
   "id": "8c60f284",
   "metadata": {},
   "outputs": [],
   "source": [
    "18 != 7 * 2 + 4"
   ]
  },
  {
   "cell_type": "markdown",
   "id": "10b958d9",
   "metadata": {},
   "source": [
    "### 1.3 Potenciação\n",
    "\n",
    "Em Python, as potências se calculam usando `** e não`^`."
   ]
  },
  {
   "cell_type": "code",
   "execution_count": null,
   "id": "bc7f9a2c",
   "metadata": {},
   "outputs": [],
   "source": [
    "2**4"
   ]
  },
  {
   "cell_type": "code",
   "execution_count": null,
   "id": "2996bdcc",
   "metadata": {},
   "outputs": [],
   "source": [
    "16 == 2**4 "
   ]
  },
  {
   "cell_type": "code",
   "execution_count": null,
   "id": "67389eda",
   "metadata": {},
   "outputs": [],
   "source": [
    "2**4 - 2**3 == 2**3"
   ]
  },
  {
   "cell_type": "code",
   "execution_count": null,
   "id": "de2faa3f",
   "metadata": {},
   "outputs": [],
   "source": [
    "2**-1"
   ]
  },
  {
   "cell_type": "code",
   "execution_count": null,
   "id": "3917bde6",
   "metadata": {},
   "outputs": [],
   "source": [
    "2**-1 == 1/2"
   ]
  },
  {
   "cell_type": "code",
   "execution_count": null,
   "id": "377f2fa0",
   "metadata": {},
   "outputs": [],
   "source": [
    "2**1/2"
   ]
  },
  {
   "cell_type": "code",
   "execution_count": null,
   "id": "91479d70",
   "metadata": {},
   "outputs": [],
   "source": [
    "2**(1/2)"
   ]
  },
  {
   "cell_type": "code",
   "execution_count": null,
   "id": "ffce6bc3",
   "metadata": {},
   "outputs": [],
   "source": [
    "(2**(1/2))**2"
   ]
  },
  {
   "cell_type": "code",
   "execution_count": null,
   "id": "3f370c9f",
   "metadata": {},
   "outputs": [],
   "source": [
    "type((2**(1/2))**2)"
   ]
  },
  {
   "cell_type": "code",
   "execution_count": null,
   "id": "ee2e2cd0",
   "metadata": {},
   "outputs": [],
   "source": [
    "(2**(1/2))**2 == 2"
   ]
  },
  {
   "cell_type": "markdown",
   "id": "9feb3254",
   "metadata": {},
   "source": [
    "??"
   ]
  },
  {
   "cell_type": "markdown",
   "id": "ac8decbc",
   "metadata": {},
   "source": [
    "<div id=\"sec2\"></div> \n",
    "\n",
    "## 2. Variáveis."
   ]
  },
  {
   "cell_type": "markdown",
   "id": "ea9cf602",
   "metadata": {},
   "source": [
    "Podemos criar uma variável em Python simplesmente atribuindo a ela algum valor. A seguir, vamos definir a variável *x*, tomando o valor 19."
   ]
  },
  {
   "cell_type": "code",
   "execution_count": null,
   "id": "65cb5e48",
   "metadata": {},
   "outputs": [],
   "source": [
    "x = 19"
   ]
  },
  {
   "cell_type": "markdown",
   "id": "1f4c343d",
   "metadata": {},
   "source": [
    "É possível visualizar o valor da variável definida. Para isto, basta digitar seu nome. Python nos mostrará seu valor."
   ]
  },
  {
   "cell_type": "code",
   "execution_count": null,
   "id": "ae904abf",
   "metadata": {},
   "outputs": [],
   "source": [
    "x"
   ]
  },
  {
   "cell_type": "markdown",
   "id": "4c00c11a",
   "metadata": {},
   "source": [
    "Podemos visualizar também o tipo da variável."
   ]
  },
  {
   "cell_type": "code",
   "execution_count": null,
   "id": "6e3c9b29",
   "metadata": {},
   "outputs": [],
   "source": [
    "type(x)"
   ]
  },
  {
   "cell_type": "markdown",
   "id": "07dd137a",
   "metadata": {},
   "source": [
    "Também podemos modificar o valor atribuído e criar outras variáveis."
   ]
  },
  {
   "cell_type": "code",
   "execution_count": null,
   "id": "137c62e3",
   "metadata": {},
   "outputs": [],
   "source": [
    "x = 27\n",
    "y = 14"
   ]
  },
  {
   "cell_type": "markdown",
   "id": "064b9ec3",
   "metadata": {},
   "source": [
    "Para visualizar valores das variáveis em mais de uma linha, precisaremos usar o comando `print`. Confira os exemplos abaixo."
   ]
  },
  {
   "cell_type": "code",
   "execution_count": null,
   "id": "b71bb232",
   "metadata": {},
   "outputs": [],
   "source": [
    "x\n",
    "y\n",
    "x,y\n",
    "x,x\n",
    "x,x,y"
   ]
  },
  {
   "cell_type": "code",
   "execution_count": null,
   "id": "9192531b",
   "metadata": {},
   "outputs": [],
   "source": [
    "print(x)\n",
    "print(y)\n",
    "print(x,y)\n",
    "print(x,x)\n",
    "print(x,x,y)"
   ]
  },
  {
   "cell_type": "markdown",
   "id": "c7c1b900",
   "metadata": {},
   "source": [
    "O comando a seguir vai retornar um erro. Por quê?"
   ]
  },
  {
   "cell_type": "code",
   "execution_count": null,
   "id": "bcb59980",
   "metadata": {},
   "outputs": [],
   "source": [
    "#x + y*z"
   ]
  },
  {
   "cell_type": "markdown",
   "id": "c2ab3df1",
   "metadata": {},
   "source": [
    "<div id=\"sec3\"></div> \n",
    "\n",
    "## 3. Escrita de expressões matemáticas."
   ]
  },
  {
   "cell_type": "markdown",
   "id": "cabbbc65",
   "metadata": {},
   "source": [
    "### 3.1 Strings"
   ]
  },
  {
   "cell_type": "markdown",
   "id": "31c666e7",
   "metadata": {},
   "source": [
    "Palavras, frases e textos em geral são considerados pelo Python como o tipo de dado `string`. Eles devem ser digitados entre aspas duplas ou simples e também podem ser atribuídos a variáveis.   "
   ]
  },
  {
   "cell_type": "code",
   "execution_count": null,
   "id": "f616047d",
   "metadata": {},
   "outputs": [],
   "source": [
    "texto = 'Este mini-curso'"
   ]
  },
  {
   "cell_type": "code",
   "execution_count": null,
   "id": "228f5b95",
   "metadata": {},
   "outputs": [],
   "source": [
    "print(texto)"
   ]
  },
  {
   "cell_type": "code",
   "execution_count": null,
   "id": "ae13596d",
   "metadata": {},
   "outputs": [],
   "source": [
    "type(texto)"
   ]
  },
  {
   "cell_type": "code",
   "execution_count": null,
   "id": "58eedfce",
   "metadata": {},
   "outputs": [],
   "source": [
    "texto1 = \" é muito legal!\""
   ]
  },
  {
   "cell_type": "code",
   "execution_count": null,
   "id": "10ee983d",
   "metadata": {},
   "outputs": [],
   "source": [
    "print(texto + texto1)"
   ]
  },
  {
   "cell_type": "markdown",
   "id": "b1f7c488",
   "metadata": {},
   "source": [
    "Observe que o sinal \" + \" acima não representa uma soma de números. Ele concatena dois dados de tipo `string`.\n",
    "\n",
    "Precisaremos trabalhar com expressões contendo variáveis numéricas e símbolos matemáticos. A seguir imprimiremos a expressão \"2 + 3 = 5\"."
   ]
  },
  {
   "cell_type": "code",
   "execution_count": null,
   "id": "8d8ec71b",
   "metadata": {},
   "outputs": [],
   "source": [
    "print('2 + 3 = 5')"
   ]
  },
  {
   "cell_type": "markdown",
   "id": "d83d7e93",
   "metadata": {},
   "source": [
    "### 3.2 f-Strings"
   ]
  },
  {
   "cell_type": "markdown",
   "id": "4d5f9968",
   "metadata": {},
   "source": [
    "Podemos imprimir resultados com variáveis na saída. Para isto, utilizaremos os chamados *f-strings*."
   ]
  },
  {
   "cell_type": "code",
   "execution_count": null,
   "id": "6bb2b814",
   "metadata": {},
   "outputs": [],
   "source": [
    "x = 2\n",
    "y = 3\n",
    "print('x + y = {x+y}') #não funciona como queremos\n",
    "print(f'x + y = {x+y}') #funciona!"
   ]
  },
  {
   "cell_type": "code",
   "execution_count": null,
   "id": "7a143883",
   "metadata": {},
   "outputs": [],
   "source": [
    "x = 2\n",
    "y = 3\n",
    "print(f'x/y = {x/y}') #Um exemplo com uma fração"
   ]
  },
  {
   "cell_type": "markdown",
   "id": "3e071ca1",
   "metadata": {},
   "source": [
    "O resultado acima está correto, mas esteticamente, não é muito agradável. Podemos usar a sintaxe de [LaTeX](https://pt.wikipedia.org/wiki/LaTeX): sistema de preparação de documentos e processamento de textos, dentro do código Python, para melhorar a aparência das frações. \n",
    "\n",
    "Nesta célula de texto, podemos usar LaTeX para digitar uma fração. Isto porque Jupyter Notebook consegue renderizar LaTeX dentro de HTML / [Markdown](https://pt.wikipedia.org/wiki/Markdown) (linguagem de marcação), usando [MathJax](https://en.wikipedia.org/wiki/MathJax).\n",
    "\n",
    "Basta colocar a expressão matemática escrita em LaTeX dentro de \\\\$ \\\\$. Ou, no modo de exibição matemática, escrevendo entre \\$$ \\$$. \n",
    "\n",
    "Por exemplo: $\\frac{x}{y}$ ou $$\\frac{x}{y}.$$\n",
    "\n",
    "Vejamos como fazer o mesmo numa célula de código. Como `\\`e `{}` são comandos de Python, precisaremos escrevê-os duas vezes na nossa expressão de LaTeX."
   ]
  },
  {
   "cell_type": "code",
   "execution_count": null,
   "id": "149188e8",
   "metadata": {},
   "outputs": [],
   "source": [
    "print(f'\\\\frac{{x}}{{y}} = {x/y}')"
   ]
  },
  {
   "cell_type": "markdown",
   "id": "f4c0d747",
   "metadata": {},
   "source": [
    "Finalmente, para que apareça a expressão que desejamos, e não o código LaTeX, como acima, Python deve interpretar o comando `\\frac{x}{y}`. Para isto usaremos a função `Math`, do submódulo `IPython.display`. Precisaremos primeiramente, importar essa função."
   ]
  },
  {
   "cell_type": "code",
   "execution_count": null,
   "id": "b4a6859c",
   "metadata": {},
   "outputs": [],
   "source": [
    "from IPython.display import Math\n",
    "Math(f'\\\\frac{{x}}{{y}} = {x/y}')"
   ]
  },
  {
   "cell_type": "markdown",
   "id": "da5bd31e",
   "metadata": {},
   "source": [
    "Outros exemplos:"
   ]
  },
  {
   "cell_type": "code",
   "execution_count": null,
   "id": "b436dbc8",
   "metadata": {},
   "outputs": [],
   "source": [
    "a = 3 #diferente de zero!!\n",
    "b = 5\n",
    "print(f'A solução da equação {a}x = {b} é:') \n",
    "Math(f'x = \\\\frac{{{b}}}{{{a}}}.')"
   ]
  },
  {
   "cell_type": "markdown",
   "id": "94ea6233",
   "metadata": {},
   "source": [
    "Ou, também"
   ]
  },
  {
   "cell_type": "code",
   "execution_count": null,
   "id": "05c51bf6",
   "metadata": {},
   "outputs": [],
   "source": [
    "Math(f'\\\\text{{A solução da equação }} {a}x = {b} \\\\text{{ é }} x = \\\\frac{{{b}}}{{{a}}}.') "
   ]
  },
  {
   "cell_type": "code",
   "execution_count": null,
   "id": "07dd4099",
   "metadata": {},
   "outputs": [],
   "source": [
    "Math(f'\\\\text{{A solução da equação }} x^{a} = {b} \\\\text{{ é }} x = {b}^{{1/{a}}}.') "
   ]
  },
  {
   "cell_type": "markdown",
   "id": "a6b3a507",
   "metadata": {},
   "source": [
    "<div id=\"sec4\"></div> \n",
    "\n",
    "## 4 Elementos básicos de programação: ciclos, funções e condicionais."
   ]
  },
  {
   "cell_type": "markdown",
   "id": "1e2ce70d",
   "metadata": {},
   "source": [
    "### 4.1 Estruturas de repetição (ciclos/laços/ loops)"
   ]
  },
  {
   "cell_type": "markdown",
   "id": "c4ad3df5",
   "metadata": {},
   "source": [
    "Os ciclos nos permitem executar operações que vão ser repetidas várias vezes."
   ]
  },
  {
   "cell_type": "code",
   "execution_count": null,
   "id": "56981084",
   "metadata": {},
   "outputs": [],
   "source": [
    "for i in [0,1,2,3]:\n",
    "    print(i)"
   ]
  },
  {
   "cell_type": "code",
   "execution_count": null,
   "id": "ebbf265c",
   "metadata": {},
   "outputs": [],
   "source": [
    "#Outra forma:\n",
    "for i in range(4):\n",
    "    print(i)"
   ]
  },
  {
   "cell_type": "code",
   "execution_count": null,
   "id": "67e69ad3",
   "metadata": {},
   "outputs": [],
   "source": [
    "# Como funciona range? \n",
    "print(list(range(4)))\n",
    "print(list(range(0,4,2)))\n",
    "print(list(range(0,8,2)))"
   ]
  },
  {
   "cell_type": "code",
   "execution_count": null,
   "id": "dfb46046",
   "metadata": {},
   "outputs": [],
   "source": [
    "#Imprimir os quadrados dos números pares de 0 a 10\n",
    "for i in range(0,12,2):\n",
    "    print(i**2)"
   ]
  },
  {
   "cell_type": "markdown",
   "id": "889e9f18",
   "metadata": {},
   "source": [
    "### 4.2 Funções de Python."
   ]
  },
  {
   "cell_type": "markdown",
   "id": "e73e8fbf",
   "metadata": {},
   "source": [
    "As funções em Python são sequências de comandos que são executados sempre. Já conhecemos a função `type`, que retorne o tipo de dado da entrada. Um outro exemplo é a função `len`, que conta a quantidade de caracteres num dado de tipo `string`."
   ]
  },
  {
   "cell_type": "code",
   "execution_count": null,
   "id": "1b4f5793",
   "metadata": {},
   "outputs": [],
   "source": [
    "len('sapato')"
   ]
  },
  {
   "cell_type": "code",
   "execution_count": null,
   "id": "6b6771e9",
   "metadata": {},
   "outputs": [],
   "source": [
    "len(' sapato ')"
   ]
  },
  {
   "cell_type": "markdown",
   "id": "9d7b3c89",
   "metadata": {},
   "source": [
    "Python também nos permite criar nossas próprias funções. Isto é importante quando precisamos realizar a mesma sequência de comandos várias vezes e quando queremos organizar códigos muito extensos.\n",
    "\n",
    "Por exemplo, suponhamos que queremos construir uma função que faça a conversão de valores de temperatura em graus Celsius (C) para graus Farenheit (F) usando a fórmula $$F(C) = \\frac{9}{5}C + 32.$$\n",
    "\n",
    "A função correspondente vai ter $C$ como argumento e retornará o valor $F(C)$. O código será o seguinte."
   ]
  },
  {
   "cell_type": "code",
   "execution_count": null,
   "id": "6723590e",
   "metadata": {},
   "outputs": [],
   "source": [
    "def F(C):\n",
    "    return (9.0/5)*C + 32"
   ]
  },
  {
   "cell_type": "code",
   "execution_count": null,
   "id": "f967a07f",
   "metadata": {},
   "outputs": [],
   "source": [
    "#Exemplos:\n",
    "temp1 = F(21.5)\n",
    "print(temp1)\n",
    "print(F(42.3))"
   ]
  },
  {
   "cell_type": "markdown",
   "id": "640dd048",
   "metadata": {},
   "source": [
    "### 4.3 Estruturas condicionais."
   ]
  },
  {
   "cell_type": "markdown",
   "id": "b58ff47d",
   "metadata": {},
   "source": [
    "Às vezes precisamos executar um bloco de código apenas quando uma certa condição seja satisfeita. Por exemplo, suponhamos que queremos criar a função\n",
    "\n",
    "$$f(x) = \\begin{cases}\n",
    "           -x^2 +1 ,\\quad -1 \\leq x \\leq 1;\\\\\n",
    "           \\hspace{1.2cm}0, \\quad x<-1 \\text{ ou } x>1.\n",
    "          \\end{cases}\n",
    "          $$\n",
    "Para isto, podemos usar as estruturas condicionais `if/else` como segue.      "
   ]
  },
  {
   "cell_type": "code",
   "execution_count": null,
   "id": "f0b520c3",
   "metadata": {},
   "outputs": [],
   "source": [
    "def f(x):\n",
    "    if -1 <= x <= 1:\n",
    "        valor = -x**2 +1\n",
    "    else:\n",
    "        valor = 0\n",
    "    return valor"
   ]
  },
  {
   "cell_type": "code",
   "execution_count": null,
   "id": "f058f018",
   "metadata": {},
   "outputs": [],
   "source": [
    "#Alguns exemplos\n",
    "print(f(-5), f(-1), f(0), f(1/2), f(10))"
   ]
  },
  {
   "cell_type": "markdown",
   "id": "b0214901",
   "metadata": {},
   "source": [
    "<div id=\"sec5\"></div> \n",
    "\n",
    "## 5. Referências.\n",
    "\n",
    "+ Hans Petter Langtangen. *A Primer on Scientific Programming with Python.* Quinta Edição. Springer. 2016. \n",
    "\n",
    "+ Muitos tutoriais na internet."
   ]
  },
  {
   "cell_type": "code",
   "execution_count": null,
   "id": "60872c5f",
   "metadata": {},
   "outputs": [],
   "source": []
  }
 ],
 "metadata": {
  "kernelspec": {
   "display_name": "Python 3 (ipykernel)",
   "language": "python",
   "name": "python3"
  },
  "language_info": {
   "codemirror_mode": {
    "name": "ipython",
    "version": 3
   },
   "file_extension": ".py",
   "mimetype": "text/x-python",
   "name": "python",
   "nbconvert_exporter": "python",
   "pygments_lexer": "ipython3",
   "version": "3.11.5"
  }
 },
 "nbformat": 4,
 "nbformat_minor": 5
}
