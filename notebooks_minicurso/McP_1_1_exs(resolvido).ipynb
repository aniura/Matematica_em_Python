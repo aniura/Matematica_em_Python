{
 "cells": [
  {
   "cell_type": "markdown",
   "id": "0c5b8f04",
   "metadata": {},
   "source": [
    "# Minicurso: Matemática com Python\n",
    "\n",
    "\n",
    "## Parte 1 do primeiro encontro. Exercícios resolvidos."
   ]
  },
  {
   "cell_type": "markdown",
   "id": "55d6a575",
   "metadata": {},
   "source": [
    "### Exercício 1: \n",
    "\n",
    "Faça um ciclo para determinar se cada número inteiro entre -5 e 5 é par ou ímpar. Sugerimos usar o comando `%` para determinar a paridade.\n",
    "\n",
    "Os resultados devem ser impressos da forma:\n",
    "+ *5 é um número ímpar*, \n",
    "+ *2 é um número par*."
   ]
  },
  {
   "cell_type": "code",
   "execution_count": 1,
   "id": "f537d921",
   "metadata": {},
   "outputs": [
    {
     "name": "stdout",
     "output_type": "stream",
     "text": [
      "-5 é um número par\n",
      "-4 é um número ímpar\n",
      "-3 é um número par\n",
      "-2 é um número ímpar\n",
      "-1 é um número par\n",
      "0 é um número ímpar\n",
      "1 é um número par\n",
      "2 é um número ímpar\n",
      "3 é um número par\n",
      "4 é um número ímpar\n",
      "5 é um número par\n"
     ]
    }
   ],
   "source": [
    "#Solução:\n",
    "for i in range(-5,6):\n",
    "    if i%2 == 0:\n",
    "        print(f'{i} é um número ímpar')\n",
    "    else:\n",
    "        print(f'{i} é um número par')"
   ]
  },
  {
   "cell_type": "markdown",
   "id": "3b63d899",
   "metadata": {},
   "source": [
    "### Exercício 2:\n",
    "\n",
    "(a) Construa uma nova função \"F aprimorada (F_a) que transforme graus Celsius em Farenheit de forma que, se $C < -273.15$, \n",
    "\n",
    "+ sejam impressas as frases: \"O valor C (valor inserido) não faz sentido físico.\", \"A temperatura em Farenheit não será calculada.\";\n",
    "+ seja retornado como valor de F(C), o valor NaN ( = float('nan')), que é usado em Python para representar valores numéricos indefinidos ou inválidos.\n",
    "\n",
    "Se $C \\geq -273.15$, deve ser aplicada a fórmula.\n",
    "\n",
    "(b) Avalie F_a nos valores $C_1 = 0, C_2 = 30.2$ e $C_1 = -400$."
   ]
  },
  {
   "cell_type": "code",
   "execution_count": 4,
   "id": "c057b0b2",
   "metadata": {},
   "outputs": [],
   "source": [
    "#Solução:\n",
    "#Função\n",
    "def F_a(C):\n",
    "    if C < -273.15:\n",
    "        print(f'O valor C = {C} não faz sentido físico.')\n",
    "        print(\"A temperatura em Farenheit não será calculada.\")\n",
    "        return float('nan')\n",
    "    else:\n",
    "        return (9.0/5)*C + 32"
   ]
  },
  {
   "cell_type": "code",
   "execution_count": 3,
   "id": "79b5322c",
   "metadata": {},
   "outputs": [
    {
     "name": "stdout",
     "output_type": "stream",
     "text": [
      "32.0\n",
      "86.36\n",
      "O valor C = -400 não faz sentido físico\n",
      "A temperatura em Farenheit não será calculada\n",
      "nan\n"
     ]
    }
   ],
   "source": [
    "#Valores pedidos\n",
    "print(F_a(0))\n",
    "print(F_a(30.2))\n",
    "print(F_a(-400))"
   ]
  },
  {
   "cell_type": "code",
   "execution_count": null,
   "id": "7f7612bb",
   "metadata": {},
   "outputs": [],
   "source": []
  }
 ],
 "metadata": {
  "kernelspec": {
   "display_name": "Python 3 (ipykernel)",
   "language": "python",
   "name": "python3"
  },
  "language_info": {
   "codemirror_mode": {
    "name": "ipython",
    "version": 3
   },
   "file_extension": ".py",
   "mimetype": "text/x-python",
   "name": "python",
   "nbconvert_exporter": "python",
   "pygments_lexer": "ipython3",
   "version": "3.11.5"
  }
 },
 "nbformat": 4,
 "nbformat_minor": 5
}
