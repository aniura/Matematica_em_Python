{
 "cells": [
  {
   "cell_type": "markdown",
   "id": "f14daae6",
   "metadata": {},
   "source": [
    "# Minicurso: Matemática com Python\n",
    "\n",
    "\n",
    "## Parte 2 do primeiro encontro\n",
    "\n",
    "Conteúdos:\n",
    "\n",
    "\n",
    "[1. Senos e cossenos formando ... uma arara!](#sec1)\n",
    "\n",
    "\n",
    "[2. A biblioteca Matplotlib. Plotagem de pontos e retas. ](#sec2)\n",
    "\n",
    "\n",
    "[3. A biblioteca Numpy. Vetorização.](#sec3)\n",
    "\n",
    "\n",
    "[4. Gráficos de funções e de curvas.](#sec4)\n",
    "\n",
    "\n",
    "[5. Outra forma de desenhar círculos.](#sec5)\n",
    "\n",
    "\n",
    "[6. Referências.](#sec6)"
   ]
  },
  {
   "cell_type": "markdown",
   "id": "62e5d6e6",
   "metadata": {},
   "source": [
    "<div id=\"sec1\"></div> \n",
    "\n",
    "## 1. Senos e cossenos formando ... uma arara!"
   ]
  },
  {
   "cell_type": "markdown",
   "id": "472c21a7",
   "metadata": {},
   "source": [
    "[Hamid Naderi Yeganeh](https://en.wikipedia.org/wiki/Hamid_Naderi_Yeganeh) (26/07/1990, Iran) é um matemático e artista digital conhecido por usar ferramentas matemáticas para criar imagens de objetos, animais, plantas, etc. Sua obra [*Parrot*](https://www.huffpost.com/entry/mathematical-birds_b_8876904), mostra uma arara construída desenhando $20001$ circunferências. \n",
    "\n",
    "<img src=\"imagens/Parrot.jpg\" alt=\"Drawing\" style=\"width: 500px;\"/>\n",
    "<p style=\"text-align: center;\">Parrot</p>\n",
    "\n",
    "Cada uma destas circunferências tem centro no ponto $(A(k),B(k))$ e raio $R(k)$, onde $k$ varia de $-10000$ a $10000$. As fórmulas para cada função aparecem abaixo. Todas são funções trigonométricas.\n",
    "\n",
    "\\begin{align*}\n",
    " A(k)&=\\frac{3 k}{20000} + \\left(\\cos\\left(\\frac{37 \\pi k}{10000}\\right)\\right)^6 \\text{sen }\\left(\\left(\\frac{k}{10000}\\right)^7 \\frac{3 \\pi}{ 5}\\right) + \\\\\n",
    "&\\frac{9}{7}\\left(\\cos\\left(\\frac{37 \\pi k}{10000}\\right)\\right)^{16} \\left(\\cos\\left(\\frac{\\pi  k}{ 20000}\\right)\\right)^{12}  \n",
    "\\text{sen }\\left(\\frac{\\pi k}{10000}\\right)\\\\\n",
    "B(k)&=-\\frac{5}{4} \\left(\\cos\\left(\\frac{37 \\pi k}{10000}\\right)\\right)^6  \\cos\\left(\\left(\\frac{k}{10000}\\right)^ 7 \\frac{3 \\pi}{5}\\right) \n",
    "\\left(1 + 3  \\left(\\cos\\left(\\frac{\\pi  k}{20000}\\right) \\cos\\left(\\frac{3 \\pi  k}{ 20000}\\right)\\right)^8\\right) + \\\\\n",
    "&\\frac{2}{3} \\left(\\cos\\left(\\frac{3 \\pi  k}{ 200000}\\right)\\cos\\left(\\frac{9 \\pi  k}{ 200000}\\right) \\cos\\left(\\frac{9 \\pi  k}{ 100000}\\right)\\right)^{12}\\\\ \n",
    "R(k)&=\\frac{1}{32} + \\frac{1}{15} \\left(\\text{sen }\\left(\\frac{37 \\pi  k}{10000}\\right)\\right)^2 \n",
    "\\left\\{\\left(\\text{sen }\\left(\\frac{\\pi  k}{10000}\\right)\\right)^2 + \\frac{3}{2}  \\left(\\cos\\left(\\frac{\\pi k}{20000}\\right)\\right)^{18}\\right\\}\n",
    "\\end{align*}\n",
    "\n",
    "A seguir mostramos uma variação colorida e animada dessa arara, que foi construída usando Python."
   ]
  },
  {
   "cell_type": "code",
   "execution_count": null,
   "id": "8d36190b",
   "metadata": {},
   "outputs": [],
   "source": [
    "from IPython.display import Video\n",
    "Video('videos/arara_colorida.mp4', width=840, html_attributes=\"controls centered loop autoplay\")"
   ]
  },
  {
   "cell_type": "markdown",
   "id": "0c252c88",
   "metadata": {},
   "source": [
    "Em geral, a animação ajuda bastante entender como a arara foi formada. \n",
    "\n",
    "Várias bibliotecas de Python disponibilizam recursos para diferentes tipos de visualizações. A seguir, veremos como podemos plotar gráficos de funções usando a biblioteca *Matplotlib*. No final, estaremos preparados para entender o código que desenha a imagem da arara colorida. A animação tem um código um pouco mais complexo mas segue a mesma ideia."
   ]
  },
  {
   "cell_type": "markdown",
   "id": "eda6bf00",
   "metadata": {},
   "source": [
    "<div id=\"sec2\"></div> \n",
    "\n",
    "## 2.  A biblioteca Matplotlib. Plotagem de pontos e retas."
   ]
  },
  {
   "cell_type": "markdown",
   "id": "32a8150e",
   "metadata": {},
   "source": [
    "[Matplotlib](https://matplotlib.org/) é uma biblioteca que permite criar visualizações estáticas, animadas e interativas em Python. \n",
    "\n",
    "Há várias maneiras de usar esta biblioteca. Apresentaremos aqui uma metodologia *explícita* que consiste em criar uma figura (Instância da classe `Figure`) e depois usar os métodos que precisamos para desenhar e configurar a imagem que queremos.\n",
    "\n",
    "Começaremos importando o módulo `pyplot`, que é o que utilizaremos."
   ]
  },
  {
   "cell_type": "code",
   "execution_count": null,
   "id": "a49c82f2",
   "metadata": {},
   "outputs": [],
   "source": [
    "import matplotlib.pyplot as plt"
   ]
  },
  {
   "cell_type": "code",
   "execution_count": null,
   "id": "dcee80dc",
   "metadata": {},
   "outputs": [],
   "source": [
    "#Plotaremos o ponto (4,3), de cor verde e com forma redonda\n",
    "\n",
    "#Parâmetros da figura\n",
    "figsize = (5, 5)#Tamanho da figura em polegadas\n",
    "\n",
    "#Criar os objetos fig e ax\n",
    "#ax: Instância de Axes: Interface que controla o que plotamos \n",
    "#dentro de cada quadradinho\n",
    "\n",
    "fig, ax = plt.subplots(figsize=figsize)\n",
    "\n",
    "#Parâmetros dos gráficos (propriedades de \"ax\")\n",
    "ax.axis('square')\n",
    "ax.set_xlim([0,5])\n",
    "ax.set_ylim([0,5])\n",
    "ax.set_ylabel('y')\n",
    "ax.set_xlabel('x')\n",
    "ax.set_title('Um ponto')\n",
    "\n",
    "#Plotar o ponto\n",
    "plt.plot(4,3, marker='o', markersize=10, color = 'green', label = '(4,3)')\n",
    "\n",
    "#Ativar grid e legendas\n",
    "ax.grid()\n",
    "ax.legend();"
   ]
  },
  {
   "cell_type": "code",
   "execution_count": null,
   "id": "e0a761a7",
   "metadata": {},
   "outputs": [],
   "source": [
    "#Plotaremos vários pontos de diferentes cores\n",
    "\n",
    "#Parâmetros da figura\n",
    "figsize = (5, 5)#Tamanho da figura em polegadas\n",
    "\n",
    "#Criar os objetos fig e ax\n",
    "#ax: Instância de Axes: Interface que controla o que plotamos \n",
    "#dentro de cada quadradinho\n",
    "\n",
    "fig, ax = plt.subplots(figsize=figsize)\n",
    "\n",
    "#Parâmetros dos gráficos (propriedades de \"ax\")\n",
    "ax.axis('square')\n",
    "ax.set_xlim([-4.5,4.5])\n",
    "ax.set_ylim([-4.5,4.5])\n",
    "ax.set_ylabel('y')\n",
    "ax.set_xlabel('x')\n",
    "ax.set_title('Mais pontos')\n",
    "\n",
    "#Plotar os pontos\n",
    "plt.plot(4,3, 'o', label = '(4,3)')\n",
    "\n",
    "x = [-2,2,0,1.5,0.2,-1.5]\n",
    "y = [2,1,1,-0.5,2,0]\n",
    "\n",
    "for i in range(0,len(x)):\n",
    "    plt.plot(x[i],y[i],'o',label=f'Ponto {i}')\n",
    "\n",
    "#plt.plot(x,y,'^') #Experimente!   \n",
    "#plt.plot(x,y) #Experimente!\n",
    "\n",
    "#Ativar grid e legendas\n",
    "ax.grid()\n",
    "ax.legend();"
   ]
  },
  {
   "cell_type": "code",
   "execution_count": null,
   "id": "b7a0a4ec",
   "metadata": {},
   "outputs": [],
   "source": [
    "#Agora plotaremos uma reta unindo os pontos (-3,4) e (4,-3) \n",
    "\n",
    "#Parâmetros da figura\n",
    "figsize = (5, 5)#Tamanho da figura em polegadas\n",
    "\n",
    "#Criar os objetos fig e ax\n",
    "#ax: Instância de Axes: Interface que controla o que plotamos \n",
    "#dentro de cada quadradinho\n",
    "\n",
    "fig, ax = plt.subplots(figsize=figsize)\n",
    "\n",
    "#Parâmetros dos gráficos (propriedades de \"ax\")\n",
    "ax.axis('square')\n",
    "ax.set_xlim([-4.5,4.5])\n",
    "ax.set_ylim([-4.5,4.5])\n",
    "ax.set_ylabel('y')\n",
    "ax.set_xlabel('x')\n",
    "ax.set_title('Uma reta')\n",
    "\n",
    "#Plotar a reta\n",
    "\n",
    "abcissas = [-3,4]\n",
    "ordenadas = [4,-3]\n",
    "plt.plot(abcissas, ordenadas, color=[.7,.3,.8], linewidth=5, label = f'$y = -x + 1$')#color: RGB\n",
    "#Experimente mudar o valor de linewidth\n",
    "\n",
    "#Ativar grid e legendas\n",
    "ax.grid()\n",
    "ax.legend();"
   ]
  },
  {
   "cell_type": "markdown",
   "id": "144ecc32",
   "metadata": {},
   "source": [
    "<div id=\"sec3\"></div> \n",
    "\n",
    "## 3. A biblioteca NumPy. Vetorização."
   ]
  },
  {
   "cell_type": "markdown",
   "id": "4e4fd971",
   "metadata": {},
   "source": [
    "Para plotar uma reta a partir de sua equação ou para plotar gráficos de outras funções, precisaremos de um outro procedimento. \n",
    "\n",
    "Dada uma função $f: [a,b] \\to \\mathbb{R}$, para plotar seu gráfico, o que faremos é plotar pontos da forma \n",
    "\n",
    "$$\\{(x_j,f(x_j))| x_0<x_1<\\dots<x_N\\}$$\n",
    "\n",
    "com $N$ suficientemente grande.\n",
    "\n",
    "Para isto, será interessante ter uma maneira simples de produzir os valores $\\{f(x_j)| 0 \\leq j \\leq N\\}$ a partir de $\\{x_j| 0 \\leq j \\leq N\\}$. A biblioteca [Numpy](https://numpy.org/) nos permitirá fazer isso.\n",
    "\n",
    "\n",
    "NumPy é uma das bibliotecas mais importantes de Python. Ela fornece ferramentas para trabalhar com vetores, matrices e arranjos em geral de maneira rápida e eficiente. Começaremos carregando a biblioteca."
   ]
  },
  {
   "cell_type": "code",
   "execution_count": null,
   "id": "434fe3be",
   "metadata": {},
   "outputs": [],
   "source": [
    "#Carregamos a biblioteca NumPy\n",
    "import numpy as np"
   ]
  },
  {
   "cell_type": "code",
   "execution_count": null,
   "id": "44f83c0a",
   "metadata": {},
   "outputs": [],
   "source": [
    "x = [-3,4]\n",
    "m = -1\n",
    "n = 1\n",
    "# Manipulamos x como um array de NumPy\n",
    "y = m*np.array(x) + n\n",
    "\n",
    "#Plotamos\n",
    "#Parâmetros da figura\n",
    "figsize = (5, 5)#Tamanho da figura em polegadas\n",
    "\n",
    "#Criar os objetos fig e ax\n",
    "#ax: Instância de Axes: Interface que controla o que plotamos \n",
    "#dentro de cada quadradinho\n",
    "fig, ax = plt.subplots(figsize=figsize)\n",
    "\n",
    "#Parâmetros dos gráficos (propriedades de \"ax\")\n",
    "ax.axis('square')\n",
    "ax.set_xlim([-4.5,4.5])\n",
    "ax.set_ylim([-4.5,4.5])\n",
    "ax.set_ylabel('y')\n",
    "ax.set_xlabel('x')\n",
    "ax.set_title('A mesma reta de outra forma')\n",
    "\n",
    "#Plotar a reta\n",
    "\n",
    "plt.plot(x,y, color=[.7,.3,.8], linewidth=5, label = f'$y = -x + 1$')#color: RGB\n",
    "    \n",
    "#Ativar grid e legendas\n",
    "ax.grid()\n",
    "ax.legend();"
   ]
  },
  {
   "cell_type": "code",
   "execution_count": null,
   "id": "cb96f9ca",
   "metadata": {},
   "outputs": [],
   "source": [
    "#Observe que \n",
    "print(len(x),len(y))\n",
    "print(type(x))\n",
    "print(type(np.array(x)))"
   ]
  },
  {
   "cell_type": "markdown",
   "id": "bd7c4914",
   "metadata": {},
   "source": [
    "`plot` interpola pontos consecutivos usando segmentos de reta e por isso, dois pontos são suficientes para plotar a reta toda. Para plotarmos funções não lineares, precisaremos de mais pontos."
   ]
  },
  {
   "cell_type": "markdown",
   "id": "d438a97e",
   "metadata": {},
   "source": [
    "<div id=\"sec4\"></div> \n",
    "\n",
    "## 4. Gráficos de funções e de curvas."
   ]
  },
  {
   "cell_type": "markdown",
   "id": "8e736ea6",
   "metadata": {},
   "source": [
    "Suponhamos agora que queremos plotar uma função não linear, por exemplo $f(x) = x^3 - 5x$. É claro que agora precisaremos de mais de dois pontos. Precisaremos passar as abcisas e oordenadas desses pontos para o Python.\n",
    "\n",
    "Para isto será interessante utilizar a função `linspace`. \n",
    "\n",
    "`linspace(a,b, num)` retorna um arranjo numpy com `num` valores igualmente espaçados entre $a$ e $b$.  "
   ]
  },
  {
   "cell_type": "code",
   "execution_count": null,
   "id": "7f857dff",
   "metadata": {},
   "outputs": [],
   "source": [
    "#Plotagem da função $f(x) = x^3 - 5x$\n",
    "\n",
    "#Definimos a função\n",
    "def f(x):\n",
    "   return x**3 - 5*x \n",
    "\n",
    "#Parâmetros da figura\n",
    "figsize = (7, 7)\n",
    "\n",
    "#Criar os objetos fig e ax\n",
    "#ax: Instância de Axes: Interface que controla o que plotamos \n",
    "#dentro de cada quadradinho\n",
    "fig, ax = plt.subplots(figsize=figsize)\n",
    "\n",
    "#Propriedades da figura\n",
    "fig.suptitle('Efeito do número de pontos da malha')\n",
    "\n",
    "#Parâmetros dos gráficos (Axes)\n",
    "ax.axis('square')\n",
    "ax.set_xlim([-5,5])\n",
    "ax.set_ylim([-5,5])\n",
    "ax.set_ylabel('y')\n",
    "ax.set_xlabel('x')\n",
    "ax.set_title('$f(x) = x^3 - 5x$')\n",
    "\n",
    "#Plotar os gráficos\n",
    "malha1_x = np.linspace(-4,4,5) #malha de 5 valores entre -4 e 4 igualmente espaçados\n",
    "malha1_y = f(malha1_x) #valores correspondentes após avaliar a função f\n",
    "ax.plot(malha1_x,malha1_y,label='5 pontos')\n",
    "\n",
    "malha2_x = np.linspace(-4,4,20)  #malha de 20 valores entre -4 e 4 igualmente espaçados\n",
    "malha2_y = f(malha2_x) \n",
    "ax.plot(malha2_x,malha2_y,label='20 pontos')\n",
    "\n",
    "malha3_x = np.linspace(-4,4,80)  #malha de 80 valores entre -4 e 4 igualmente espaçados\n",
    "malha3_y = f(malha3_x) \n",
    "ax.plot(malha3_x,malha3_y,label='80 pontos')\n",
    "\n",
    "#Ativar grid e legendas\n",
    "ax.grid()\n",
    "ax.legend();"
   ]
  },
  {
   "cell_type": "markdown",
   "id": "77a0bab3",
   "metadata": {},
   "source": [
    "Suponha que uma partícula se move sobre uma circunferência. Podemos plotar as coordenadas da partícula como função do tempo e a trajetória da partícula. Faremos isso usando dois objetos Axes."
   ]
  },
  {
   "cell_type": "code",
   "execution_count": null,
   "id": "e08e638e",
   "metadata": {},
   "outputs": [],
   "source": [
    "#Parâmetros da figura\n",
    "figsize = (12, 6)\n",
    "colunas = 2\n",
    "linhas = 1\n",
    "\n",
    "#Criar os objetos fig e ax\n",
    "#axs: Instância de Axes: Interface que controla o que plotamos \n",
    "#dentro de cada quadradinho. Neste caso teremos duas, uma para cada tipo de gráfico.\n",
    "fig, axs = plt.subplots(linhas, colunas, figsize=figsize, layout=\"constrained\")\n",
    "\n",
    "#Propriedades da figura\n",
    "fig.suptitle('Coordenadas e trajetória de uma partícula sobre uma circunferência')\n",
    "\n",
    "#Parâmetros do gráfico das coordenadas\n",
    "axs[0].set_box_aspect(1)\n",
    "axs[0].set_xlim([-np.pi,np.pi])\n",
    "axs[0].set_ylim(([-1,1]))\n",
    "axs[0].set_ylabel('x,y')\n",
    "axs[0].set_xlabel('t')\n",
    "axs[0].set_title('Coordenadas')\n",
    "\n",
    "#Parâmetros do gráfico da trajetória\n",
    "axs[1].set_box_aspect(1)\n",
    "axs[1].set_xlim([-1,1])\n",
    "axs[1].set_ylim(([-1,1]))\n",
    "axs[1].set_ylabel('y')\n",
    "axs[1].set_xlabel('x')\n",
    "axs[1].set_title('Trajetória')\n",
    "\n",
    "#Plotar as coordenadas\n",
    "malha_t = np.linspace(-np.pi,np.pi,80)\n",
    "malha_x = np.cos(malha_t)\n",
    "malha_y = np.sin(malha_t)\n",
    "axs[0].plot(malha_t,malha_x,label='$x(t)$')\n",
    "axs[0].plot(malha_t,malha_y,label='$y(t)$')\n",
    "\n",
    "#Plotar a trajetória\n",
    "axs[1].plot(malha_x,malha_y,label='$(x(t),y(t))$', color = 'tab:green')\n",
    "\n",
    "\n",
    "#Ativar grid e legendas\n",
    "axs[0].grid()\n",
    "axs[0].legend()\n",
    "axs[1].grid()\n",
    "axs[1].legend();"
   ]
  },
  {
   "cell_type": "markdown",
   "id": "412c549a",
   "metadata": {},
   "source": [
    "<div id=\"sec5\"></div> \n",
    "\n",
    "## 5. Outra forma de desenhar círculos."
   ]
  },
  {
   "cell_type": "markdown",
   "id": "4f8b57ac",
   "metadata": {},
   "source": [
    "A biblioteca Matplotlib nos fornece uma maneira muito mais direta de desenhar circunferências, quadrados e muitos outros tipos de figuras. Isto é, usando figuras pré-definidas chamadas `patches`. Para adicionar uma destas figuras ao espaço onde plotamos (que é um objeto da classe `Axes`) precisamos usar o comando `add_patch`."
   ]
  },
  {
   "cell_type": "code",
   "execution_count": null,
   "id": "4443fbbe",
   "metadata": {},
   "outputs": [],
   "source": [
    "#Criar os objetos fig e axs\n",
    "fig, ax = plt.subplots(figsize=(6, 6))\n",
    "\n",
    "#Limites da janela onde vamos desenhar\n",
    "ax.set_xlim(-4, 4)\n",
    "ax.set_ylim(-4, 4)\n",
    "\n",
    "#Podemos apagar a caixinha quadrada \n",
    "#ax.axis('off')\n",
    "\n",
    "#Desenhamos os círculos\n",
    "#Circle((x, y), R, ...) gera um círculo com centro em (x,y) e raio R.\n",
    "circle1 = plt.Circle((0, 0), 1, facecolor='none',\n",
    "                edgecolor='tab:green', linewidth=3, alpha=0.5, lw = 30)\n",
    "\n",
    "circle2 = plt.Circle((0, 0), 2, facecolor='none',\n",
    "                edgecolor='tab:blue', linewidth=3, alpha=0.5, lw = 30)\n",
    "\n",
    "circle3 = plt.Circle((0, 0), 3, facecolor='none',\n",
    "                edgecolor='tab:orange', linewidth=3, alpha=0.5, lw = 30)\n",
    "\n",
    "#Plotamos os círculos \n",
    "ax.add_patch(circle1)\n",
    "ax.add_patch(circle2)\n",
    "ax.add_patch(circle3);"
   ]
  },
  {
   "cell_type": "markdown",
   "id": "9e2fe6df",
   "metadata": {},
   "source": [
    "### E agora, como você acha que foi feita a arara do início da notebook?"
   ]
  },
  {
   "cell_type": "markdown",
   "id": "baf5aa98",
   "metadata": {},
   "source": [
    "<div id=\"sec6\"></div> \n",
    "\n",
    "## 6. Referências.\n",
    "\n",
    "+ https://matplotlib.org/\n",
    "\n",
    "+ https://numpy.org/\n",
    "\n",
    "+ https://matplotlib.org/stable/api/patches_api.html"
   ]
  },
  {
   "cell_type": "code",
   "execution_count": null,
   "id": "4aa65880",
   "metadata": {},
   "outputs": [],
   "source": []
  },
  {
   "cell_type": "code",
   "execution_count": null,
   "id": "9f7692c1",
   "metadata": {},
   "outputs": [],
   "source": []
  }
 ],
 "metadata": {
  "kernelspec": {
   "display_name": "Python 3 (ipykernel)",
   "language": "python",
   "name": "python3"
  },
  "language_info": {
   "codemirror_mode": {
    "name": "ipython",
    "version": 3
   },
   "file_extension": ".py",
   "mimetype": "text/x-python",
   "name": "python",
   "nbconvert_exporter": "python",
   "pygments_lexer": "ipython3",
   "version": "3.11.5"
  }
 },
 "nbformat": 4,
 "nbformat_minor": 5
}
