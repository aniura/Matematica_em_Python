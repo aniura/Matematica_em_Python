{
 "cells": [
  {
   "cell_type": "markdown",
   "id": "710fcd98",
   "metadata": {},
   "source": [
    "# Minicurso: Matemática com Python\n",
    "\n",
    "\n",
    "## Parte 1 do segundo encontro: \n",
    " \n",
    "\n",
    "Conteúdos:\n",
    "\n",
    "\n",
    "[1.Trabalho com matrizes usando a biblioteca NumPy.](#sec1)\n",
    "\n",
    "\n",
    "[1.1 Operações com matrizes.](#sec1.1)\n",
    "\n",
    "\n",
    "[1.2 Algumas matrizes especiais.](#sec1.2)\n",
    "\n",
    "\n",
    "[2. Visualização de matrizes usando a biblioteca Matplotlib.](#sec2)\n",
    "\n",
    "\n",
    "[3. A inversa e o determinante.](#sec3)\n",
    "\n",
    "\n",
    "[4.Referências.](#sec4)"
   ]
  },
  {
   "cell_type": "markdown",
   "id": "e3a1b334",
   "metadata": {},
   "source": [
    "<div id=\"sec1\"></div>\n",
    "\n",
    "## 1. Trabalho com matrizes usando a biblioteca NumPy."
   ]
  },
  {
   "cell_type": "markdown",
   "id": "c3a03219",
   "metadata": {},
   "source": [
    "Na biblioteca NumPy, uma matriz pode ser construída como um *numpy array*,  fornecendo suas linhas, observando que:\n",
    "\n",
    "+ Cada linha deve estar entre colchetes.\n",
    "+ A matriz toda deve estar entre colchetes.\n",
    "+ A matriz é o argumento da função `array`, portanto, devemos usar parênteses.\n",
    "\n",
    "Por exemplo: vamos definir as matrizes\n",
    "\n",
    "$$A = \\begin{bmatrix}\n",
    "       1 & -1 & 2\\\\\n",
    "       0 & 3 & -1\\\\\n",
    "       -1 & 0 & -2       \n",
    "      \\end{bmatrix}, B = \\begin{bmatrix}\n",
    "                          2 & 2\\\\\n",
    "                          0 & -2\\\\\n",
    "                          -2 & 2                          \n",
    "                         \\end{bmatrix} \\text{ e } b = \\begin{bmatrix}\n",
    "                                               2\\\\\n",
    "                                               -3\\\\\n",
    "                                               4\n",
    "                                              \\end{bmatrix}.$$"
   ]
  },
  {
   "cell_type": "code",
   "execution_count": null,
   "id": "1401c1e1",
   "metadata": {},
   "outputs": [],
   "source": [
    "#Importamos a biblioteca NumPy\n",
    "import numpy as np\n",
    "#E também funções que nos simplificam a visualização de expressões matemáticas\n",
    "from IPython.display import Math"
   ]
  },
  {
   "cell_type": "code",
   "execution_count": null,
   "id": "2a04e64b",
   "metadata": {},
   "outputs": [],
   "source": [
    "#Definimos a matriz A\n",
    "A = np.array([ [1, -1, 2], [ 0, 3, -1], [-1, 0, -2] ])\n",
    "print('A = ')\n",
    "print(A)"
   ]
  },
  {
   "cell_type": "code",
   "execution_count": null,
   "id": "bf57365f",
   "metadata": {},
   "outputs": [],
   "source": [
    "#Definimos a matriz B\n",
    "B = np.array([ [2, 2], [ 0, -2], [-2, 2] ])\n",
    "print('B = ')\n",
    "print(B)"
   ]
  },
  {
   "cell_type": "code",
   "execution_count": null,
   "id": "1d3c0e6d",
   "metadata": {},
   "outputs": [],
   "source": [
    "#Definimos a matriz coluna b\n",
    "b = np.array([ [2], [-3], [4] ])\n",
    "print('b = ')\n",
    "print(b)"
   ]
  },
  {
   "cell_type": "markdown",
   "id": "bec84cee",
   "metadata": {},
   "source": [
    "Como obter o tamanho das matrizes?"
   ]
  },
  {
   "cell_type": "code",
   "execution_count": null,
   "id": "7b9e2eac",
   "metadata": {},
   "outputs": [],
   "source": [
    "A.shape"
   ]
  },
  {
   "cell_type": "code",
   "execution_count": null,
   "id": "ebcf40af",
   "metadata": {},
   "outputs": [],
   "source": [
    "B.shape"
   ]
  },
  {
   "cell_type": "code",
   "execution_count": null,
   "id": "9a3ff41f",
   "metadata": {},
   "outputs": [],
   "source": [
    "b.shape"
   ]
  },
  {
   "cell_type": "markdown",
   "id": "7a2b5f39",
   "metadata": {},
   "source": [
    "Como obter as colunas e as linhas?"
   ]
  },
  {
   "cell_type": "code",
   "execution_count": null,
   "id": "df6c0816",
   "metadata": {},
   "outputs": [],
   "source": [
    "#Primeira linha de A:\n",
    "print(A[0,:])"
   ]
  },
  {
   "cell_type": "code",
   "execution_count": null,
   "id": "33efa9c5",
   "metadata": {},
   "outputs": [],
   "source": [
    "#Segunda linha de A:\n",
    "print(A[1,:])"
   ]
  },
  {
   "cell_type": "code",
   "execution_count": null,
   "id": "16f6531d",
   "metadata": {},
   "outputs": [],
   "source": [
    "#Segunda coluna de B:\n",
    "print(B[:,1])"
   ]
  },
  {
   "cell_type": "markdown",
   "id": "75685d60",
   "metadata": {},
   "source": [
    "<div id=\"sec1.1\"></div>\n",
    "\n",
    "### 1.1 Operações com matrizes."
   ]
  },
  {
   "cell_type": "code",
   "execution_count": null,
   "id": "4ca61acb",
   "metadata": {},
   "outputs": [],
   "source": [
    "#Produto por um escalar\n",
    "print('2A = ')\n",
    "print(2*A)"
   ]
  },
  {
   "cell_type": "code",
   "execution_count": null,
   "id": "ad4b4b58",
   "metadata": {},
   "outputs": [],
   "source": [
    "#Soma de matrizes. \n",
    "#Definimos a matriz C, 3x3\n",
    "C = np.array([ [2, 0, -4], [ 0, 1, -5], [2, 1, 3] ])\n",
    "print('A + C = ')\n",
    "print(A + C)"
   ]
  },
  {
   "cell_type": "code",
   "execution_count": null,
   "id": "2b744611",
   "metadata": {},
   "outputs": [],
   "source": [
    "#Produto de matrizes.\n",
    "#Usar o símbolo @!!\n",
    "print('AB = ')\n",
    "print(A@B)"
   ]
  },
  {
   "cell_type": "code",
   "execution_count": null,
   "id": "88f95a8c",
   "metadata": {},
   "outputs": [],
   "source": [
    "#Ou a função \"dot\"\n",
    "print('AB = ')\n",
    "print(np.dot(A,B))"
   ]
  },
  {
   "cell_type": "code",
   "execution_count": null,
   "id": "4aa004ba",
   "metadata": {},
   "outputs": [],
   "source": [
    "#* não calcula o produto de matrizes!\n",
    "#Ele multiplica entrada a entrada!\n",
    "print('A*C = ')\n",
    "print(A*C)"
   ]
  },
  {
   "cell_type": "code",
   "execution_count": null,
   "id": "9a9d805b",
   "metadata": {},
   "outputs": [],
   "source": [
    "#O produto de matrizes não é comutativo em geral\n",
    "C@A == A@C"
   ]
  },
  {
   "cell_type": "code",
   "execution_count": null,
   "id": "76b3bf32",
   "metadata": {},
   "outputs": [],
   "source": [
    "#Transposta usando a função \"transpose\"\n",
    "print('A = ')\n",
    "print(A)\n",
    "display(Math('$A^t = $'))\n",
    "print(np.transpose(A))"
   ]
  },
  {
   "cell_type": "code",
   "execution_count": null,
   "id": "634b0a30",
   "metadata": {},
   "outputs": [],
   "source": [
    "#Transposta usando o método .T\n",
    "print('B = ')\n",
    "print(B)\n",
    "display(Math('$B^t = $'))\n",
    "print(B.T)"
   ]
  },
  {
   "cell_type": "markdown",
   "id": "35db5d5a",
   "metadata": {},
   "source": [
    "<div id=\"sec1.2\"></div>\n",
    "\n",
    "### 1.2 Algumas matrizes especiais."
   ]
  },
  {
   "cell_type": "code",
   "execution_count": null,
   "id": "b261c3a8",
   "metadata": {},
   "outputs": [],
   "source": [
    "#Matriz identidade\n",
    "I = np.eye(4)\n",
    "display(Math('$I_4 = $'))\n",
    "print(I)"
   ]
  },
  {
   "cell_type": "code",
   "execution_count": null,
   "id": "49847425",
   "metadata": {},
   "outputs": [],
   "source": [
    "#Matriz nula\n",
    "N = np.zeros((5,5))\n",
    "print('N = ')\n",
    "print(N)"
   ]
  },
  {
   "cell_type": "code",
   "execution_count": null,
   "id": "37f8f6d4",
   "metadata": {},
   "outputs": [],
   "source": [
    "# Matriz diagonal\n",
    "D = np.diag([1,3,2,4,5])\n",
    "print('D = ')\n",
    "print(D)"
   ]
  },
  {
   "cell_type": "code",
   "execution_count": null,
   "id": "90c5f057",
   "metadata": {},
   "outputs": [],
   "source": [
    "#Extrair a diagonal de uma matriz\n",
    "diag_A = np.diagonal(A)\n",
    "print('A = ')\n",
    "print(A)\n",
    "print(f'A diagonal da matriz A é {diag_A}')"
   ]
  },
  {
   "cell_type": "markdown",
   "id": "a2f2882a",
   "metadata": {},
   "source": [
    "<div id=\"sec2\"></div>\n",
    "\n",
    "## 2. Visualização de matrizes usando a biblioteca Matplotlib."
   ]
  },
  {
   "cell_type": "markdown",
   "id": "45a1df0e",
   "metadata": {},
   "source": [
    "A função `matshow`, do submódulo `matplotlib.pyplot`, plota as entradas de uma matriz como uma imagem na qual cada valor é codificado através de uma cor usando *colormaps* ou *mapas de cor*. \n",
    "\n",
    "Isto facilita a identificação de estruturas nas matrizes e simplifica a visualização de matrizes de dimensões muito grandes. "
   ]
  },
  {
   "cell_type": "code",
   "execution_count": null,
   "id": "bb3b864b",
   "metadata": {},
   "outputs": [],
   "source": [
    "#Importamos o módulo pyplot, de Matplotlib.\n",
    "import matplotlib.pyplot as plt\n",
    "\n",
    "#Vamos visualizar a matriz diagonal com os números 0 1 2 ... 20 na diagonal.\n",
    "\n",
    "#1. Criamos o arranjo [0 1 2 ... 20]\n",
    "arr = range(21)\n",
    "print(list(arr))"
   ]
  },
  {
   "cell_type": "code",
   "execution_count": null,
   "id": "ea6f0614",
   "metadata": {
    "scrolled": false
   },
   "outputs": [],
   "source": [
    "#Código mais simples e direto\n",
    "A_20 = np.diag(arr)\n",
    "\n",
    "plt.matshow(A_20)\n",
    "\n",
    "plt.show()"
   ]
  },
  {
   "cell_type": "markdown",
   "id": "14e6d603",
   "metadata": {},
   "source": [
    "Acima foi usada a colormap *viridis*: \n",
    "\n",
    "<img src=\"imagens/viridis.png\" alt=\"Drawing\" style=\"width: 500px;\"/>\n",
    "\n",
    "Ela associa valores menores a cores mais escuras. Por isso, o número 20 corresponde ao tom mais amarelo e o 0 corresponde ao valor mais azul escuro."
   ]
  },
  {
   "cell_type": "code",
   "execution_count": null,
   "id": "63dd2184",
   "metadata": {},
   "outputs": [],
   "source": [
    "#Outra maneira de visualizar a matriz\n",
    "#Mas não funciona muito bem para matrizes de dimensões maiores\n",
    "display(Math('$A_{20} = $'))\n",
    "print(A_20)"
   ]
  },
  {
   "cell_type": "markdown",
   "id": "9df6425d",
   "metadata": {},
   "source": [
    "Vejamos outros exemplos."
   ]
  },
  {
   "cell_type": "code",
   "execution_count": null,
   "id": "ee9a518b",
   "metadata": {},
   "outputs": [],
   "source": [
    "#Visualização da matriz B e de sua transposta\n",
    "\n",
    "#Parâmetros da figura\n",
    "figsize = (12, 6)\n",
    "colunas = 2\n",
    "linhas = 1\n",
    "\n",
    "#Criar os objetos fig e ax\n",
    "fig, ax = plt.subplots(linhas, colunas, figsize=figsize)\n",
    "\n",
    "ax[0].matshow(B, cmap = 'plasma')\n",
    "#Você pode mudar o valor de cmap se preferir outras cores\n",
    "#Veja: https://matplotlib.org/stable/gallery/color/colormap_reference.html\n",
    "ax[0].set_title('Matriz B')\n",
    "#Tiramos as marcas dos eixos\n",
    "ax[0].set_xticks([])\n",
    "ax[0].set_yticks([])\n",
    "\n",
    "ax[1].matshow(B.T, cmap = 'plasma')\n",
    "ax[1].set_title('Matriz B$^t$')\n",
    "#Tiramos as marcas dos eixos\n",
    "ax[1].set_xticks([])\n",
    "ax[1].set_yticks([])\n",
    "\n",
    "plt.show()"
   ]
  },
  {
   "cell_type": "markdown",
   "id": "f930104e",
   "metadata": {},
   "source": [
    "<div id=\"sec3\"></div>\n",
    "\n",
    "## 3. A inversa e o determinante."
   ]
  },
  {
   "cell_type": "markdown",
   "id": "bcfddefb",
   "metadata": {},
   "source": [
    "A inversa e o determinante de uma matriz podem ser calculados usando funções do módulo *linalg* da biblioteca NumPy."
   ]
  },
  {
   "cell_type": "code",
   "execution_count": null,
   "id": "4e65ea70",
   "metadata": {},
   "outputs": [],
   "source": [
    "#Inversa da matriz A\n",
    "Ainv = np.linalg.inv(A)\n",
    "display(Math('$A^{-1} = $'))\n",
    "print(Ainv)"
   ]
  },
  {
   "cell_type": "code",
   "execution_count": null,
   "id": "8e7bb350",
   "metadata": {},
   "outputs": [],
   "source": [
    "#Verificar que Ainv é, de fato, a inversa de A.\n",
    "print(A@Ainv)\n",
    "print(Ainv@A)"
   ]
  },
  {
   "cell_type": "code",
   "execution_count": null,
   "id": "a84169a6",
   "metadata": {},
   "outputs": [],
   "source": [
    "#Determinante da matriz A\n",
    "detA = np.linalg.det(A)\n",
    "print('det(A) =', detA)"
   ]
  },
  {
   "cell_type": "code",
   "execution_count": null,
   "id": "72c3756d",
   "metadata": {},
   "outputs": [],
   "source": [
    "#Determinante da matriz inversa de A\n",
    "detAinv = np.linalg.det(Ainv)\n",
    "display(Math(f'$A^{{-1}} = {detAinv}$'))"
   ]
  },
  {
   "cell_type": "code",
   "execution_count": null,
   "id": "8135220a",
   "metadata": {},
   "outputs": [],
   "source": [
    "#Visualização de A, de sua inversa e da matriz identidade.\n",
    "\n",
    "#Parâmetros da figura\n",
    "figsize = (18, 6)\n",
    "colunas = 3\n",
    "linhas = 1\n",
    "\n",
    "#Criar os objetos fig e ax\n",
    "fig, ax = plt.subplots(linhas, colunas, figsize=figsize)\n",
    "\n",
    "ax[0].matshow(A, cmap = 'nipy_spectral')\n",
    "ax[0].set_title('A')\n",
    "ax[0].axis('off')\n",
    "\n",
    "ax[1].matshow(Ainv, cmap = 'nipy_spectral')\n",
    "ax[1].set_title('A$^{-1}$')\n",
    "ax[1].axis('off')\n",
    "\n",
    "ax[2].matshow(A@Ainv, cmap = 'nipy_spectral')\n",
    "ax[2].set_title('AA$^{-1}$')\n",
    "ax[2].axis('off')\n",
    "\n",
    "plt.show()"
   ]
  },
  {
   "cell_type": "markdown",
   "id": "05a29e91",
   "metadata": {},
   "source": [
    "<div id=\"sec4\"></div> \n",
    "\n",
    "## 4. Referências\n",
    "\n",
    "+ https://scipy-lectures.org/intro/numpy/operations.html\n",
    "\n",
    "+ https://matplotlib.org/stable/api/_as_gen/matplotlib.axes.Axes.matshow.html#matplotlib.axes.Axes.matshow\n",
    "\n",
    "+ https://numpy.org/doc/stable/reference/routines.linalg.html"
   ]
  },
  {
   "cell_type": "code",
   "execution_count": null,
   "id": "0db13a70",
   "metadata": {},
   "outputs": [],
   "source": []
  }
 ],
 "metadata": {
  "kernelspec": {
   "display_name": "Python 3 (ipykernel)",
   "language": "python",
   "name": "python3"
  },
  "language_info": {
   "codemirror_mode": {
    "name": "ipython",
    "version": 3
   },
   "file_extension": ".py",
   "mimetype": "text/x-python",
   "name": "python",
   "nbconvert_exporter": "python",
   "pygments_lexer": "ipython3",
   "version": "3.11.5"
  }
 },
 "nbformat": 4,
 "nbformat_minor": 5
}
