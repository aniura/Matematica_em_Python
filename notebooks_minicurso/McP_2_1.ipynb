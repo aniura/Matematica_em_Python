{
 "cells": [
  {
   "cell_type": "markdown",
   "id": "710fcd98",
   "metadata": {},
   "source": [
    "# Minicurso: Matemática com Python\n",
    "\n",
    "\n",
    "## Parte 1 do segundo encontro: \n",
    " \n",
    "\n",
    "Conteúdos:\n",
    "\n",
    "\n",
    "[1.Trabalho com matrizes usando a biblioteca NumPy.](#sec1)\n",
    "\n",
    "\n",
    "[1.1 Operações com matrizes.](#sec1.1)\n",
    "\n",
    "\n",
    "[1.2 Algumas matrizes especiais.](#sec1.2)\n",
    "\n",
    "\n",
    "[2. Visualização de matrizes usando a biblioteca Matplotlib.](#sec2)\n",
    "\n",
    "\n",
    "[3. A inversa e o determinante.](#sec3)\n",
    "\n",
    "\n",
    "[4.Referências.](#sec4)"
   ]
  },
  {
   "cell_type": "markdown",
   "id": "e3a1b334",
   "metadata": {},
   "source": [
    "<div id=\"sec1\"></div>\n",
    "\n",
    "## 1. Trabalho com matrizes usando a biblioteca NumPy."
   ]
  },
  {
   "cell_type": "markdown",
   "id": "c3a03219",
   "metadata": {},
   "source": [
    "Na biblioteca NumPy, uma matriz pode ser construída como um *numpy array*,  fornecendo suas linhas, observando que:\n",
    "\n",
    "+ Cada linha deve estar entre colchetes.\n",
    "+ A matriz toda deve estar entre colchetes.\n",
    "+ A matriz é o argumento da função `array`, portanto, devemos usar parênteses.\n",
    "\n",
    "Por exemplo: vamos definir as matrizes\n",
    "\n",
    "$$A = \\begin{bmatrix}\n",
    "       1 & -1 & 2\\\\\n",
    "       0 & 3 & -1\\\\\n",
    "       -1 & 0 & -2       \n",
    "      \\end{bmatrix}, B = \\begin{bmatrix}\n",
    "                          2 & 2\\\\\n",
    "                          0 & -2\\\\\n",
    "                          -2 & 2                          \n",
    "                         \\end{bmatrix} \\text{ e } b = \\begin{bmatrix}\n",
    "                                               2\\\\\n",
    "                                               -3\\\\\n",
    "                                               4\n",
    "                                              \\end{bmatrix}.$$"
   ]
  },
  {
   "cell_type": "code",
   "execution_count": 1,
   "id": "1401c1e1",
   "metadata": {},
   "outputs": [],
   "source": [
    "#Importamos a biblioteca NumPy\n",
    "import numpy as np\n",
    "#E também funções que nos simplificam a visualização de expressões matemáticas\n",
    "from IPython.display import Math"
   ]
  },
  {
   "cell_type": "code",
   "execution_count": 2,
   "id": "2a04e64b",
   "metadata": {},
   "outputs": [
    {
     "name": "stdout",
     "output_type": "stream",
     "text": [
      "A = \n",
      "[[ 1 -1  2]\n",
      " [ 0  3 -1]\n",
      " [-1  0 -2]]\n"
     ]
    }
   ],
   "source": [
    "#Definimos a matriz A\n",
    "A = np.array([ [1, -1, 2], [ 0, 3, -1], [-1, 0, -2] ])\n",
    "print('A = ')\n",
    "print(A)"
   ]
  },
  {
   "cell_type": "code",
   "execution_count": 3,
   "id": "bf57365f",
   "metadata": {},
   "outputs": [
    {
     "name": "stdout",
     "output_type": "stream",
     "text": [
      "B = \n",
      "[[ 2  2]\n",
      " [ 0 -2]\n",
      " [-2  2]]\n"
     ]
    }
   ],
   "source": [
    "#Definimos a matriz B\n",
    "B = np.array([ [2, 2], [ 0, -2], [-2, 2] ])\n",
    "print('B = ')\n",
    "print(B)"
   ]
  },
  {
   "cell_type": "code",
   "execution_count": 4,
   "id": "1d3c0e6d",
   "metadata": {},
   "outputs": [
    {
     "name": "stdout",
     "output_type": "stream",
     "text": [
      "b = \n",
      "[[ 2]\n",
      " [-3]\n",
      " [ 4]]\n"
     ]
    }
   ],
   "source": [
    "#Definimos a matriz coluna b\n",
    "b = np.array([ [2], [-3], [4] ])\n",
    "print('b = ')\n",
    "print(b)"
   ]
  },
  {
   "cell_type": "markdown",
   "id": "bec84cee",
   "metadata": {},
   "source": [
    "Como obter o tamanho das matrizes?"
   ]
  },
  {
   "cell_type": "code",
   "execution_count": 5,
   "id": "7b9e2eac",
   "metadata": {},
   "outputs": [
    {
     "data": {
      "text/plain": [
       "(3, 3)"
      ]
     },
     "execution_count": 5,
     "metadata": {},
     "output_type": "execute_result"
    }
   ],
   "source": [
    "A.shape"
   ]
  },
  {
   "cell_type": "code",
   "execution_count": 6,
   "id": "ebcf40af",
   "metadata": {},
   "outputs": [
    {
     "data": {
      "text/plain": [
       "(3, 2)"
      ]
     },
     "execution_count": 6,
     "metadata": {},
     "output_type": "execute_result"
    }
   ],
   "source": [
    "B.shape"
   ]
  },
  {
   "cell_type": "code",
   "execution_count": 7,
   "id": "9a3ff41f",
   "metadata": {},
   "outputs": [
    {
     "data": {
      "text/plain": [
       "(3, 1)"
      ]
     },
     "execution_count": 7,
     "metadata": {},
     "output_type": "execute_result"
    }
   ],
   "source": [
    "b.shape"
   ]
  },
  {
   "cell_type": "markdown",
   "id": "7a2b5f39",
   "metadata": {},
   "source": [
    "Como obter as colunas e as linhas?"
   ]
  },
  {
   "cell_type": "code",
   "execution_count": 8,
   "id": "df6c0816",
   "metadata": {},
   "outputs": [
    {
     "name": "stdout",
     "output_type": "stream",
     "text": [
      "[ 1 -1  2]\n"
     ]
    }
   ],
   "source": [
    "#Primeira linha de A:\n",
    "print(A[0,:])"
   ]
  },
  {
   "cell_type": "code",
   "execution_count": 9,
   "id": "33efa9c5",
   "metadata": {},
   "outputs": [
    {
     "name": "stdout",
     "output_type": "stream",
     "text": [
      "[ 0  3 -1]\n"
     ]
    }
   ],
   "source": [
    "#Segunda linha de A:\n",
    "print(A[1,:])"
   ]
  },
  {
   "cell_type": "code",
   "execution_count": 10,
   "id": "16f6531d",
   "metadata": {},
   "outputs": [
    {
     "name": "stdout",
     "output_type": "stream",
     "text": [
      "[ 2 -2  2]\n"
     ]
    }
   ],
   "source": [
    "#Segunda coluna de B:\n",
    "print(B[:,1])"
   ]
  },
  {
   "cell_type": "markdown",
   "id": "75685d60",
   "metadata": {},
   "source": [
    "<div id=\"sec1.1\"></div>\n",
    "\n",
    "### 1.1 Operações com matrizes."
   ]
  },
  {
   "cell_type": "code",
   "execution_count": 11,
   "id": "4ca61acb",
   "metadata": {},
   "outputs": [
    {
     "name": "stdout",
     "output_type": "stream",
     "text": [
      "2A = \n",
      "[[ 2 -2  4]\n",
      " [ 0  6 -2]\n",
      " [-2  0 -4]]\n"
     ]
    }
   ],
   "source": [
    "#Produto por um escalar\n",
    "print('2A = ')\n",
    "print(2*A)"
   ]
  },
  {
   "cell_type": "code",
   "execution_count": 12,
   "id": "ad4b4b58",
   "metadata": {},
   "outputs": [
    {
     "name": "stdout",
     "output_type": "stream",
     "text": [
      "A + C = \n",
      "[[ 3 -1 -2]\n",
      " [ 0  4 -6]\n",
      " [ 1  1  1]]\n"
     ]
    }
   ],
   "source": [
    "#Soma de matrizes. \n",
    "#Definimos a matriz C, 3x3\n",
    "C = np.array([ [2, 0, -4], [ 0, 1, -5], [2, 1, 3] ])\n",
    "print('A + C = ')\n",
    "print(A + C)"
   ]
  },
  {
   "cell_type": "code",
   "execution_count": 13,
   "id": "2b744611",
   "metadata": {},
   "outputs": [
    {
     "name": "stdout",
     "output_type": "stream",
     "text": [
      "AB = \n",
      "[[-2  8]\n",
      " [ 2 -8]\n",
      " [ 2 -6]]\n"
     ]
    }
   ],
   "source": [
    "#Produto de matrizes.\n",
    "#Usar o símbolo @!!\n",
    "print('AB = ')\n",
    "print(A@B)"
   ]
  },
  {
   "cell_type": "code",
   "execution_count": 14,
   "id": "88f95a8c",
   "metadata": {},
   "outputs": [
    {
     "name": "stdout",
     "output_type": "stream",
     "text": [
      "AB = \n",
      "[[-2  8]\n",
      " [ 2 -8]\n",
      " [ 2 -6]]\n"
     ]
    }
   ],
   "source": [
    "#Ou a função \"dot\"\n",
    "print('AB = ')\n",
    "print(np.dot(A,B))"
   ]
  },
  {
   "cell_type": "code",
   "execution_count": 15,
   "id": "9a9d805b",
   "metadata": {},
   "outputs": [
    {
     "data": {
      "text/plain": [
       "array([[False, False, False],\n",
       "       [False, False, False],\n",
       "       [False, False, False]])"
      ]
     },
     "execution_count": 15,
     "metadata": {},
     "output_type": "execute_result"
    }
   ],
   "source": [
    "#O produto de matrizes não é comutativo em geral\n",
    "A*C == A@C"
   ]
  },
  {
   "cell_type": "code",
   "execution_count": 16,
   "id": "76b3bf32",
   "metadata": {},
   "outputs": [
    {
     "name": "stdout",
     "output_type": "stream",
     "text": [
      "A = \n",
      "[[ 1 -1  2]\n",
      " [ 0  3 -1]\n",
      " [-1  0 -2]]\n"
     ]
    },
    {
     "data": {
      "text/latex": [
       "$\\displaystyle 2A^6 = $"
      ],
      "text/plain": [
       "<IPython.core.display.Math object>"
      ]
     },
     "metadata": {},
     "output_type": "display_data"
    },
    {
     "name": "stdout",
     "output_type": "stream",
     "text": [
      "[[ 1  0 -1]\n",
      " [-1  3  0]\n",
      " [ 2 -1 -2]]\n"
     ]
    }
   ],
   "source": [
    "#Transposta usando a função \"transpose\"\n",
    "print('A = ')\n",
    "print(A)\n",
    "display(Math('$2A^6 = $'))\n",
    "print(np.transpose(A))"
   ]
  },
  {
   "cell_type": "code",
   "execution_count": 17,
   "id": "634b0a30",
   "metadata": {},
   "outputs": [
    {
     "name": "stdout",
     "output_type": "stream",
     "text": [
      "B = \n",
      "[[ 2  2]\n",
      " [ 0 -2]\n",
      " [-2  2]]\n"
     ]
    },
    {
     "data": {
      "text/latex": [
       "$\\displaystyle B^t = $"
      ],
      "text/plain": [
       "<IPython.core.display.Math object>"
      ]
     },
     "metadata": {},
     "output_type": "display_data"
    },
    {
     "name": "stdout",
     "output_type": "stream",
     "text": [
      "[[ 2  0 -2]\n",
      " [ 2 -2  2]]\n"
     ]
    }
   ],
   "source": [
    "#Transposta usando o método .T\n",
    "print('B = ')\n",
    "print(B)\n",
    "display(Math('$B^t = $'))\n",
    "print(B.T)"
   ]
  },
  {
   "cell_type": "markdown",
   "id": "35db5d5a",
   "metadata": {},
   "source": [
    "<div id=\"sec1.2\"></div>\n",
    "\n",
    "### 1.2 Algumas matrizes especiais."
   ]
  },
  {
   "cell_type": "code",
   "execution_count": 18,
   "id": "b261c3a8",
   "metadata": {},
   "outputs": [
    {
     "name": "stdout",
     "output_type": "stream",
     "text": [
      "[[1. 0. 0. 0.]\n",
      " [0. 1. 0. 0.]\n",
      " [0. 0. 1. 0.]\n",
      " [0. 0. 0. 1.]]\n"
     ]
    }
   ],
   "source": [
    "#Matriz identidade\n",
    "I = np.eye(4)\n",
    "print(I)"
   ]
  },
  {
   "cell_type": "code",
   "execution_count": 19,
   "id": "49847425",
   "metadata": {},
   "outputs": [
    {
     "name": "stdout",
     "output_type": "stream",
     "text": [
      "[[0. 0. 0. 0. 0.]\n",
      " [0. 0. 0. 0. 0.]\n",
      " [0. 0. 0. 0. 0.]\n",
      " [0. 0. 0. 0. 0.]\n",
      " [0. 0. 0. 0. 0.]]\n"
     ]
    }
   ],
   "source": [
    "#Matriz nula\n",
    "N = np.zeros((5,5))\n",
    "print(N)"
   ]
  },
  {
   "cell_type": "code",
   "execution_count": 20,
   "id": "90c5f057",
   "metadata": {},
   "outputs": [
    {
     "name": "stdout",
     "output_type": "stream",
     "text": [
      "[[1 0 0 0 0]\n",
      " [0 3 0 0 0]\n",
      " [0 0 2 0 0]\n",
      " [0 0 0 4 0]\n",
      " [0 0 0 0 5]]\n",
      "[1 3 2 4 5]\n",
      "[[ 1 -1  2]\n",
      " [ 0  3 -1]\n",
      " [-1  0 -2]]\n",
      "A diagonal da matriz A é [ 1  3 -2]\n"
     ]
    }
   ],
   "source": [
    "# Matriz diagonal\n",
    "D = np.diag([1,3,2,4,5])\n",
    "print(D)\n",
    "#Extrair a diagonal de uma matriz\n",
    "d = np.diagonal(D)\n",
    "print(d)\n",
    "diag_A = np.diagonal(A)\n",
    "print(A)\n",
    "print(f'A diagonal da matriz A é {diag_A}')"
   ]
  },
  {
   "cell_type": "markdown",
   "id": "a2f2882a",
   "metadata": {},
   "source": [
    "<div id=\"sec2\"></div>\n",
    "\n",
    "## 2. Visualização de matrizes usando a biblioteca Matplotlib."
   ]
  },
  {
   "cell_type": "markdown",
   "id": "45a1df0e",
   "metadata": {},
   "source": [
    "A função `matshow`, do submódulo `matplotlib.pyplot`, plota as entradas de uma matriz como uma imagem na qual cada valor é codificado através de uma cor usando *colormaps* ou *mapas de cor*. \n",
    "\n",
    "Isto facilita a identificação de estruturas nas matrizes e simplifica a visualização de matrizes de dimensões muito grandes. "
   ]
  },
  {
   "cell_type": "code",
   "execution_count": 21,
   "id": "bb3b864b",
   "metadata": {},
   "outputs": [
    {
     "name": "stdout",
     "output_type": "stream",
     "text": [
      "[0, 1, 2, 3, 4, 5, 6, 7, 8, 9, 10, 11, 12, 13, 14, 15, 16, 17, 18, 19, 20]\n"
     ]
    }
   ],
   "source": [
    "#Importamos o módulo pyplot, de Matplotlib.\n",
    "import matplotlib.pyplot as plt\n",
    "\n",
    "#Vamos visualizar a matriz diagonal com os números 0 1 2 ... 20 na diagonal.\n",
    "\n",
    "#1. Criamos o arranjo [0 1 2 ... 20]\n",
    "arr = range(21)\n",
    "print(list(arr))"
   ]
  },
  {
   "cell_type": "code",
   "execution_count": 22,
   "id": "ea6f0614",
   "metadata": {
    "scrolled": true
   },
   "outputs": [
    {
     "data": {
      "image/png": "[encoded data removed]",
      "text/plain": [
       "<Figure size 480x480 with 1 Axes>"
      ]
     },
     "metadata": {},
     "output_type": "display_data"
    }
   ],
   "source": [
    "#Código mais simples e direto\n",
    "A_20 = np.diag(arr)\n",
    "\n",
    "plt.matshow(A_20)\n",
    "\n",
    "plt.show()"
   ]
  },
  {
   "cell_type": "markdown",
   "id": "14e6d603",
   "metadata": {},
   "source": [
    "Acima foi usada a colormap *viridis*: \n",
    "\n",
    "<img src=\"imagens/viridis.png\" alt=\"Drawing\" style=\"width: 500px;\"/>\n",
    "\n",
    "Ela associa valores menores a cores mais escuras. Por isso, o número 20 corresponde ao tom mais amarelo e o 0 corresponde ao valor mais azul escuro."
   ]
  },
  {
   "cell_type": "code",
   "execution_count": 23,
   "id": "63dd2184",
   "metadata": {},
   "outputs": [
    {
     "name": "stdout",
     "output_type": "stream",
     "text": [
      "[[ 0  0  0  0  0  0  0  0  0  0  0  0  0  0  0  0  0  0  0  0  0]\n",
      " [ 0  1  0  0  0  0  0  0  0  0  0  0  0  0  0  0  0  0  0  0  0]\n",
      " [ 0  0  2  0  0  0  0  0  0  0  0  0  0  0  0  0  0  0  0  0  0]\n",
      " [ 0  0  0  3  0  0  0  0  0  0  0  0  0  0  0  0  0  0  0  0  0]\n",
      " [ 0  0  0  0  4  0  0  0  0  0  0  0  0  0  0  0  0  0  0  0  0]\n",
      " [ 0  0  0  0  0  5  0  0  0  0  0  0  0  0  0  0  0  0  0  0  0]\n",
      " [ 0  0  0  0  0  0  6  0  0  0  0  0  0  0  0  0  0  0  0  0  0]\n",
      " [ 0  0  0  0  0  0  0  7  0  0  0  0  0  0  0  0  0  0  0  0  0]\n",
      " [ 0  0  0  0  0  0  0  0  8  0  0  0  0  0  0  0  0  0  0  0  0]\n",
      " [ 0  0  0  0  0  0  0  0  0  9  0  0  0  0  0  0  0  0  0  0  0]\n",
      " [ 0  0  0  0  0  0  0  0  0  0 10  0  0  0  0  0  0  0  0  0  0]\n",
      " [ 0  0  0  0  0  0  0  0  0  0  0 11  0  0  0  0  0  0  0  0  0]\n",
      " [ 0  0  0  0  0  0  0  0  0  0  0  0 12  0  0  0  0  0  0  0  0]\n",
      " [ 0  0  0  0  0  0  0  0  0  0  0  0  0 13  0  0  0  0  0  0  0]\n",
      " [ 0  0  0  0  0  0  0  0  0  0  0  0  0  0 14  0  0  0  0  0  0]\n",
      " [ 0  0  0  0  0  0  0  0  0  0  0  0  0  0  0 15  0  0  0  0  0]\n",
      " [ 0  0  0  0  0  0  0  0  0  0  0  0  0  0  0  0 16  0  0  0  0]\n",
      " [ 0  0  0  0  0  0  0  0  0  0  0  0  0  0  0  0  0 17  0  0  0]\n",
      " [ 0  0  0  0  0  0  0  0  0  0  0  0  0  0  0  0  0  0 18  0  0]\n",
      " [ 0  0  0  0  0  0  0  0  0  0  0  0  0  0  0  0  0  0  0 19  0]\n",
      " [ 0  0  0  0  0  0  0  0  0  0  0  0  0  0  0  0  0  0  0  0 20]]\n"
     ]
    }
   ],
   "source": [
    "#Outra maneira de visualizar a matriz\n",
    "#Mas não funciona muito bem para matrizes de dimensões maiores\n",
    "print(A_20)"
   ]
  },
  {
   "cell_type": "markdown",
   "id": "9df6425d",
   "metadata": {},
   "source": [
    "Vejamos outros exemplos."
   ]
  },
  {
   "cell_type": "code",
   "execution_count": 24,
   "id": "ee9a518b",
   "metadata": {},
   "outputs": [
    {
     "data": {
      "image/png": "[encoded data removed]",
      "text/plain": [
       "<Figure size 1200x600 with 2 Axes>"
      ]
     },
     "metadata": {},
     "output_type": "display_data"
    }
   ],
   "source": [
    "#Visualização da matriz B e de sua transposta\n",
    "\n",
    "#Parâmetros da figura\n",
    "figsize = (12, 6)\n",
    "colunas = 2\n",
    "linhas = 1\n",
    "\n",
    "#Criar os objetos fig e ax\n",
    "fig, ax = plt.subplots(linhas, colunas, figsize=figsize)\n",
    "\n",
    "ax[0].matshow(B, cmap = 'plasma')\n",
    "#Você pode mudar o valor de cmap se preferir outras cores\n",
    "#Veja: https://matplotlib.org/stable/gallery/color/colormap_reference.html\n",
    "ax[0].set_title('Matriz B')\n",
    "#Tiramos as marcas dos eixos\n",
    "ax[0].set_xticks([])\n",
    "ax[0].set_yticks([])\n",
    "\n",
    "ax[1].matshow(B.T, cmap = 'plasma')\n",
    "ax[1].set_title('Matriz B$^t$')\n",
    "#Tiramos as marcas dos eixos\n",
    "ax[1].set_xticks([])\n",
    "ax[1].set_yticks([])\n",
    "\n",
    "plt.show()"
   ]
  },
  {
   "cell_type": "markdown",
   "id": "f930104e",
   "metadata": {},
   "source": [
    "<div id=\"sec3\"></div>\n",
    "\n",
    "## 3. A inversa e o determinante."
   ]
  },
  {
   "cell_type": "markdown",
   "id": "bcfddefb",
   "metadata": {},
   "source": [
    "A inversa e o determinante de uma matriz podem ser calculados usando funções do módulo *linalg* da biblioteca NumPy."
   ]
  },
  {
   "cell_type": "code",
   "execution_count": 25,
   "id": "4e65ea70",
   "metadata": {},
   "outputs": [
    {
     "data": {
      "text/latex": [
       "$\\displaystyle A^{-1} = $"
      ],
      "text/plain": [
       "<IPython.core.display.Math object>"
      ]
     },
     "metadata": {},
     "output_type": "display_data"
    },
    {
     "name": "stdout",
     "output_type": "stream",
     "text": [
      "[[ 6.  2.  5.]\n",
      " [-1.  0. -1.]\n",
      " [-3. -1. -3.]]\n"
     ]
    }
   ],
   "source": [
    "#Inversa da matriz A\n",
    "Ainv = np.linalg.inv(A)\n",
    "display(Math('$A^{-1} = $'))\n",
    "print(Ainv)"
   ]
  },
  {
   "cell_type": "code",
   "execution_count": 26,
   "id": "8e7bb350",
   "metadata": {},
   "outputs": [
    {
     "name": "stdout",
     "output_type": "stream",
     "text": [
      "[[1. 0. 0.]\n",
      " [0. 1. 0.]\n",
      " [0. 0. 1.]]\n",
      "[[1. 0. 0.]\n",
      " [0. 1. 0.]\n",
      " [0. 0. 1.]]\n"
     ]
    }
   ],
   "source": [
    "#Verificar que Ainv é, de fato, a inversa de A.\n",
    "print(A@Ainv)\n",
    "print(Ainv@A)"
   ]
  },
  {
   "cell_type": "code",
   "execution_count": 27,
   "id": "a84169a6",
   "metadata": {},
   "outputs": [
    {
     "name": "stdout",
     "output_type": "stream",
     "text": [
      "det(A) = -1.0\n"
     ]
    }
   ],
   "source": [
    "#Determinante da matriz A\n",
    "detA = np.linalg.det(A)\n",
    "print('det(A) =', detA)"
   ]
  },
  {
   "cell_type": "code",
   "execution_count": 28,
   "id": "72c3756d",
   "metadata": {},
   "outputs": [
    {
     "data": {
      "text/latex": [
       "$\\displaystyle A^{-1} = -0.9999999999999999$"
      ],
      "text/plain": [
       "<IPython.core.display.Math object>"
      ]
     },
     "metadata": {},
     "output_type": "display_data"
    }
   ],
   "source": [
    "#Determinante da matriz inversa de A\n",
    "detAinv = np.linalg.det(Ainv)\n",
    "display(Math(f'$A^{{-1}} = {detAinv}$'))"
   ]
  },
  {
   "cell_type": "code",
   "execution_count": 29,
   "id": "8135220a",
   "metadata": {},
   "outputs": [
    {
     "data": {
      "image/png": "[encoded data removed]",
      "text/plain": [
       "<Figure size 1800x600 with 3 Axes>"
      ]
     },
     "metadata": {},
     "output_type": "display_data"
    }
   ],
   "source": [
    "#Visualização de A, de sua inversa e da matriz identidade.\n",
    "\n",
    "#Parâmetros da figura\n",
    "figsize = (18, 6)\n",
    "colunas = 3\n",
    "linhas = 1\n",
    "\n",
    "#Criar os objetos fig e ax\n",
    "fig, ax = plt.subplots(linhas, colunas, figsize=figsize)\n",
    "\n",
    "ax[0].matshow(A, cmap = 'nipy_spectral')\n",
    "ax[0].set_title('A')\n",
    "ax[0].axis('off')\n",
    "\n",
    "ax[1].matshow(Ainv, cmap = 'nipy_spectral')\n",
    "ax[1].set_title('A$^{-1}$')\n",
    "ax[1].axis('off')\n",
    "\n",
    "ax[2].matshow(A@Ainv, cmap = 'nipy_spectral')\n",
    "ax[2].set_title('AA$^{-1}$')\n",
    "ax[2].axis('off')\n",
    "\n",
    "plt.show()"
   ]
  },
  {
   "cell_type": "markdown",
   "id": "05a29e91",
   "metadata": {},
   "source": [
    "<div id=\"sec4\"></div> \n",
    "\n",
    "## 4. Referências\n",
    "\n",
    "+ https://scipy-lectures.org/intro/numpy/operations.html\n",
    "\n",
    "+ https://matplotlib.org/stable/api/_as_gen/matplotlib.axes.Axes.matshow.html#matplotlib.axes.Axes.matshow\n",
    "\n",
    "+ https://numpy.org/doc/stable/reference/routines.linalg.html"
   ]
  },
  {
   "cell_type": "code",
   "execution_count": null,
   "id": "0db13a70",
   "metadata": {},
   "outputs": [],
   "source": []
  }
 ],
 "metadata": {
  "kernelspec": {
   "display_name": "Python 3 (ipykernel)",
   "language": "python",
   "name": "python3"
  },
  "language_info": {
   "codemirror_mode": {
    "name": "ipython",
    "version": 3
   },
   "file_extension": ".py",
   "mimetype": "text/x-python",
   "name": "python",
   "nbconvert_exporter": "python",
   "pygments_lexer": "ipython3",
   "version": "3.11.5"
  }
 },
 "nbformat": 4,
 "nbformat_minor": 5
}
