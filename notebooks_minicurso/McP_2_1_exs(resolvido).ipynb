{
 "cells": [
  {
   "cell_type": "markdown",
   "id": "31e867e2",
   "metadata": {},
   "source": [
    "# Minicurso: Matemática com Python\n",
    "\n",
    "\n",
    "## Parte 1 do segundo encontro. Exercícios resolvidos."
   ]
  },
  {
   "cell_type": "markdown",
   "id": "8af06a9b",
   "metadata": {},
   "source": [
    "### Exercício 1: \n",
    "\n",
    "Considere as matrizes\n",
    "$$A = \\begin{bmatrix}\n",
    "       2 & -3 & 4 & 2\\\\\n",
    "       4 & 0 & -2 & 1\\\\\n",
    "       -3 & 1 & -3 & 4 \\\\\n",
    "       -6 & 0 & -1 & 3 \n",
    "      \\end{bmatrix} \\text{ e }  B = \\begin{bmatrix}\n",
    "                          1 & -1 & 0 & 2\\\\\n",
    "                          0 & -2 & -1 & 0\\\\\n",
    "                          -2 & 2 & -2 & 0                          \n",
    "                         \\end{bmatrix}.$$\n",
    "                         \n",
    "(a) Defina as duas como arranjos de NumPy. \n",
    "\n",
    "(b) Imprima as duas matrizes para verificar que estão corretas.\n",
    "\n",
    "(c) Calcule e imprima a matriz $2A^6$.\n",
    "\n",
    "(d) Se o produto $AB$ puder ser realizado, calcule e imprima seu resultado. Se não puder, justifique.\n",
    "\n",
    "(e) Faça o mesmo com $BA$.\n",
    "\n",
    "(f) Calcule a transposta de $B$ e visualize as duas matrizes usando a função `matshow` e o mapa de cores `plasma`. "
   ]
  },
  {
   "cell_type": "code",
   "execution_count": 1,
   "id": "8f751350",
   "metadata": {},
   "outputs": [],
   "source": [
    "#Configurações iniciais:\n",
    "import numpy as np\n",
    "from IPython.display import Math\n",
    "import matplotlib.pyplot as plt"
   ]
  },
  {
   "cell_type": "code",
   "execution_count": 2,
   "id": "d940cd67",
   "metadata": {},
   "outputs": [],
   "source": [
    "#Solução (a):\n",
    "#Definimos as matrizes como arranjos NumPy\n",
    "A = np.array([ [2, -3, 4, 2], [ 4, 0, -2, 1], [-3, 1, -3, 4], [-6, 0, -1, 3] ])\n",
    "B = np.array([ [1, -1, 0, 2], [0, -2, -1, 0], [-2, 2, -2, 0] ])"
   ]
  },
  {
   "cell_type": "code",
   "execution_count": 3,
   "id": "8f1c9eba",
   "metadata": {},
   "outputs": [
    {
     "name": "stdout",
     "output_type": "stream",
     "text": [
      "A = [[ 2 -3  4  2]\n",
      " [ 4  0 -2  1]\n",
      " [-3  1 -3  4]\n",
      " [-6  0 -1  3]]\n",
      "B = [[ 1 -1  0  2]\n",
      " [ 0 -2 -1  0]\n",
      " [-2  2 -2  0]]\n"
     ]
    }
   ],
   "source": [
    "#Solução (b):\n",
    "print('A =', A)\n",
    "print('B =',B)"
   ]
  },
  {
   "cell_type": "code",
   "execution_count": 4,
   "id": "333e1afd",
   "metadata": {},
   "outputs": [
    {
     "data": {
      "text/latex": [
       "$\\displaystyle 2A^6 = $"
      ],
      "text/plain": [
       "<IPython.core.display.Math object>"
      ]
     },
     "metadata": {},
     "output_type": "display_data"
    },
    {
     "name": "stdout",
     "output_type": "stream",
     "text": [
      "[[  128  1458  8192   128]\n",
      " [ 8192     0   128     2]\n",
      " [ 1458     2  1458  8192]\n",
      " [93312     0     2  1458]]\n"
     ]
    }
   ],
   "source": [
    "#Solução (c):\n",
    "display(Math('2A^6 = '))\n",
    "print(2*A**6)"
   ]
  },
  {
   "cell_type": "code",
   "execution_count": 5,
   "id": "b43e9b61",
   "metadata": {},
   "outputs": [
    {
     "name": "stdout",
     "output_type": "stream",
     "text": [
      "O produto AB não pode ser realizado porque A tem 4 colunas e B tem 3 linhas.\n"
     ]
    }
   ],
   "source": [
    "#Solução (d):\n",
    "print('O produto AB não pode ser realizado porque A tem 4 colunas e B tem 3 linhas.')"
   ]
  },
  {
   "cell_type": "code",
   "execution_count": 6,
   "id": "d6bfe574",
   "metadata": {},
   "outputs": [
    {
     "name": "stdout",
     "output_type": "stream",
     "text": [
      "BA = [[-14  -3   4   7]\n",
      " [ -5  -1   7  -6]\n",
      " [ 10   4  -6 -10]]\n"
     ]
    }
   ],
   "source": [
    "#Solução (e):\n",
    "print('BA =', B@A)"
   ]
  },
  {
   "cell_type": "code",
   "execution_count": 7,
   "id": "488465f7",
   "metadata": {},
   "outputs": [
    {
     "data": {
      "image/png": "[encoded data removed]",
      "text/plain": [
       "<Figure size 1200x600 with 2 Axes>"
      ]
     },
     "metadata": {},
     "output_type": "display_data"
    }
   ],
   "source": [
    "#Solução (f):\n",
    "#Visualização da matriz B e de sua transposta\n",
    "\n",
    "#Parâmetros da figura\n",
    "figsize = (12, 6)\n",
    "colunas = 2\n",
    "linhas = 1\n",
    "\n",
    "#Criar os objetos fig e ax\n",
    "fig, ax = plt.subplots(linhas, colunas, figsize=figsize)\n",
    "\n",
    "ax[0].matshow(B, cmap = 'magma')\n",
    "#Você pode mudar o valor de cmap se preferir outras cores\n",
    "#Veja: https://matplotlib.org/stable/gallery/color/colormap_reference.html\n",
    "ax[0].set_title('Matriz B')\n",
    "#Tiramos as marcas dos eixos\n",
    "ax[0].set_xticks([])\n",
    "ax[0].set_yticks([])\n",
    "\n",
    "ax[1].matshow(B.T, cmap = 'magma')\n",
    "ax[1].set_title('Matriz B$^t$')\n",
    "#Tiramos as marcas dos eixos\n",
    "ax[1].set_xticks([])\n",
    "ax[1].set_yticks([])\n",
    "\n",
    "plt.show()"
   ]
  },
  {
   "cell_type": "markdown",
   "id": "81308908",
   "metadata": {},
   "source": [
    "### Exercício 2: \n",
    "\n",
    "Python nos fornece algumas ferramentas para gerar matrizes com entradas aleatórias. Por exemplo, os comandos abaixo criam uma matriz $M$, $50 \\times 50$, de entradas aleatórias, com valores inteiros variando entre -10 e 10. "
   ]
  },
  {
   "cell_type": "code",
   "execution_count": 8,
   "id": "37a27db1",
   "metadata": {},
   "outputs": [],
   "source": [
    "#Cria uma instância da classe Generator, usada para gerar números pseudo-aleatórios \n",
    "rng = np.random.default_rng()\n",
    "#Gera uma matriz 50x50 com números inteiros aleatórios entre \n",
    "M = rng.integers(-10, 11,(50,50), endpoint = True)"
   ]
  },
  {
   "cell_type": "markdown",
   "id": "f0f93197",
   "metadata": {},
   "source": [
    "(a) Uma matriz aleatória, muito provavelmente será inversível. Verifique isso calculando o determinante de $M$. Se, por acaso, ele for nulo, gere a matriz $M$ novamente.\n",
    "\n",
    "(b) Calcule a inversa de $M$.\n",
    "\n",
    "(c) Visualize $M, M^{-1}$ e $I_{50}$ usando a função `matshow` e o mapa de cores `cividis`. "
   ]
  },
  {
   "cell_type": "code",
   "execution_count": 9,
   "id": "38800a64",
   "metadata": {},
   "outputs": [
    {
     "name": "stdout",
     "output_type": "stream",
     "text": [
      "det(M) = 1.838247443335966e+71\n"
     ]
    }
   ],
   "source": [
    "#Solução (a):\n",
    "detM = np.linalg.det(M)\n",
    "print('det(M) =', detM)"
   ]
  },
  {
   "cell_type": "code",
   "execution_count": 10,
   "id": "7e4c8083",
   "metadata": {},
   "outputs": [
    {
     "data": {
      "text/latex": [
       "$\\displaystyle M^{-1} = $"
      ],
      "text/plain": [
       "<IPython.core.display.Math object>"
      ]
     },
     "metadata": {},
     "output_type": "display_data"
    },
    {
     "name": "stdout",
     "output_type": "stream",
     "text": [
      "[[ 0.03506143 -0.00244586 -0.01142501 ...  0.0548569   0.0362538\n",
      "   0.03004539]\n",
      " [ 0.02125202 -0.0044253   0.02386209 ...  0.08623904  0.0448861\n",
      "   0.02890427]\n",
      " [ 0.00530315 -0.01647733  0.01234336 ...  0.0162733   0.00300146\n",
      "  -0.0163861 ]\n",
      " ...\n",
      " [-0.02423142  0.04070888 -0.04487823 ... -0.15213962 -0.06869778\n",
      "  -0.02523634]\n",
      " [ 0.00630195 -0.05113562  0.03322818 ...  0.12369046  0.04744822\n",
      "  -0.00174524]\n",
      " [-0.04530448  0.01672029  0.00421854 ... -0.04095852 -0.04323999\n",
      "  -0.01161063]]\n"
     ]
    }
   ],
   "source": [
    "#Solução (b):\n",
    "#Inversa da matriz M\n",
    "Minv = np.linalg.inv(M)\n",
    "display(Math('$M^{-1} = $'))\n",
    "print(Minv)"
   ]
  },
  {
   "cell_type": "code",
   "execution_count": 11,
   "id": "8f6d8c66",
   "metadata": {},
   "outputs": [
    {
     "data": {
      "image/png": "[encoded data removed]",
      "text/plain": [
       "<Figure size 1800x600 with 3 Axes>"
      ]
     },
     "metadata": {},
     "output_type": "display_data"
    }
   ],
   "source": [
    "#Solução (c):\n",
    "\n",
    "#Parâmetros da figura\n",
    "figsize = (18, 6)\n",
    "colunas = 3\n",
    "linhas = 1\n",
    "\n",
    "#Criar os objetos fig e ax\n",
    "fig, ax = plt.subplots(linhas, colunas, figsize=figsize)\n",
    "\n",
    "ax[0].matshow(M, cmap = 'cividis')\n",
    "ax[0].set_title('M')\n",
    "ax[0].axis('off')\n",
    "\n",
    "ax[1].matshow(Minv, cmap = 'cividis')\n",
    "ax[1].set_title('M$^{-1}$')\n",
    "ax[1].axis('off')\n",
    "\n",
    "ax[2].matshow(M@Minv, cmap = 'cividis')\n",
    "ax[2].set_title('MM$^{-1} = I_{50}$')\n",
    "ax[2].axis('off')\n",
    "\n",
    "plt.show()"
   ]
  },
  {
   "cell_type": "markdown",
   "id": "8fc05dff",
   "metadata": {},
   "source": [
    "## 3. Referências\n",
    "\n",
    "\n",
    "+ https://numpy.org/devdocs/reference/random/generator.html\n",
    "\n",
    "+ https://numpy.org/devdocs/reference/random/generated/numpy.random.Generator.integers.html"
   ]
  },
  {
   "cell_type": "code",
   "execution_count": null,
   "id": "a8a2ac8c",
   "metadata": {},
   "outputs": [],
   "source": []
  }
 ],
 "metadata": {
  "kernelspec": {
   "display_name": "Python 3 (ipykernel)",
   "language": "python",
   "name": "python3"
  },
  "language_info": {
   "codemirror_mode": {
    "name": "ipython",
    "version": 3
   },
   "file_extension": ".py",
   "mimetype": "text/x-python",
   "name": "python",
   "nbconvert_exporter": "python",
   "pygments_lexer": "ipython3",
   "version": "3.11.5"
  }
 },
 "nbformat": 4,
 "nbformat_minor": 5
}
