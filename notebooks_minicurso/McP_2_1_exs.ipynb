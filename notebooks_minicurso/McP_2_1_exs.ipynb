{
 "cells": [
  {
   "cell_type": "markdown",
   "id": "31e867e2",
   "metadata": {},
   "source": [
    "# Minicurso: Matemática com Python\n",
    "\n",
    "\n",
    "## Parte 1 do segundo encontro. Exercícios."
   ]
  },
  {
   "cell_type": "markdown",
   "id": "8af06a9b",
   "metadata": {},
   "source": [
    "### Exercício 1: \n",
    "\n",
    "Considere as matrizes\n",
    "$$A = \\begin{bmatrix}\n",
    "       2 & -3 & 4 & 2\\\\\n",
    "       4 & 0 & -2 & 1\\\\\n",
    "       -3 & 1 & -3 & 4 \\\\\n",
    "       -6 & 0 & -1 & 3 \n",
    "      \\end{bmatrix} \\text{ e }  B = \\begin{bmatrix}\n",
    "                          1 & -1 & 0 & 2\\\\\n",
    "                          0 & -2 & -1 & 0\\\\\n",
    "                          -2 & 2 & -2 & 0                          \n",
    "                         \\end{bmatrix}.$$\n",
    "                         \n",
    "(a) Defina as duas como arranjos de NumPy. \n",
    "\n",
    "(b) Imprima as duas matrizes para verificar que estão corretas.\n",
    "\n",
    "(c) Calcule e imprima a matriz $2A^6$.\n",
    "\n",
    "(d) Se o produto $AB$ puder ser realizado, calcule e imprima seu resultado. Se não puder, justifique.\n",
    "\n",
    "(e) Faça o mesmo com $BA$.\n",
    "\n",
    "(f) Calcule a transposta de $B$ e visualize as duas matrizes usando a função `matshow` e o mapa de cores `plasma`. "
   ]
  },
  {
   "cell_type": "code",
   "execution_count": 1,
   "id": "8f751350",
   "metadata": {},
   "outputs": [],
   "source": [
    "#Configurações iniciais:\n",
    "import numpy as np\n",
    "from IPython.display import Math\n",
    "import matplotlib.pyplot as plt"
   ]
  },
  {
   "cell_type": "code",
   "execution_count": 2,
   "id": "d940cd67",
   "metadata": {},
   "outputs": [],
   "source": [
    "#Solução (a):\n"
   ]
  },
  {
   "cell_type": "code",
   "execution_count": 3,
   "id": "8f1c9eba",
   "metadata": {},
   "outputs": [],
   "source": [
    "#Solução (b):\n"
   ]
  },
  {
   "cell_type": "code",
   "execution_count": 4,
   "id": "333e1afd",
   "metadata": {},
   "outputs": [],
   "source": [
    "#Solução (c):\n"
   ]
  },
  {
   "cell_type": "code",
   "execution_count": 5,
   "id": "b43e9b61",
   "metadata": {},
   "outputs": [],
   "source": [
    "#Solução (d):\n"
   ]
  },
  {
   "cell_type": "code",
   "execution_count": 6,
   "id": "d6bfe574",
   "metadata": {},
   "outputs": [],
   "source": [
    "#Solução (e):\n"
   ]
  },
  {
   "cell_type": "code",
   "execution_count": 7,
   "id": "488465f7",
   "metadata": {},
   "outputs": [],
   "source": [
    "#Solução (f):\n"
   ]
  },
  {
   "cell_type": "markdown",
   "id": "81308908",
   "metadata": {},
   "source": [
    "### Exercício 2: \n",
    "\n",
    "O Python nos fornece algumas ferramentas para gerar matrizes com entradas aleatórias. Por exemplo, os comandos abaixo criam uma matriz $M$, $50 \\times 50$, de entradas aleatórias, com valores inteiros variando entre -10 e 10. "
   ]
  },
  {
   "cell_type": "code",
   "execution_count": 8,
   "id": "37a27db1",
   "metadata": {},
   "outputs": [],
   "source": [
    "#Cria uma instância da classe Generator, usada para gerar números pseudo-aleatórios \n",
    "rng = np.random.default_rng()\n",
    "#Gera uma matriz 50x50 com números inteiros aleatórios entre \n",
    "M = rng.integers(-10, 11,(50,50), endpoint = True)"
   ]
  },
  {
   "cell_type": "markdown",
   "id": "8aea2fe5",
   "metadata": {},
   "source": [
    "(a) Uma matriz aleatória, muito provavelmente será inversível. Verifique isso calculando o determinante de $M$. Se, por acaso, ele for nulo, gere a matriz $M$ novamente.\n",
    "\n",
    "(b) Calcule a inversa de $M$.\n",
    "\n",
    "(c) Visualize $M, M^{-1}$ e $I_{50}$ usando a função `matshow` e o mapa de cores `cividis`. "
   ]
  },
  {
   "cell_type": "code",
   "execution_count": 9,
   "id": "ef6f3780",
   "metadata": {},
   "outputs": [],
   "source": [
    "#Solução (a):\n"
   ]
  },
  {
   "cell_type": "code",
   "execution_count": 10,
   "id": "d11f8635",
   "metadata": {},
   "outputs": [],
   "source": [
    "#Solução (b):\n"
   ]
  },
  {
   "cell_type": "code",
   "execution_count": 11,
   "id": "ba67e812",
   "metadata": {},
   "outputs": [],
   "source": [
    "#Solução (c):\n"
   ]
  },
  {
   "cell_type": "markdown",
   "id": "2ef8aab1",
   "metadata": {},
   "source": [
    "## 3. Referências\n",
    "\n",
    "\n",
    "+ https://numpy.org/devdocs/reference/random/generator.html\n",
    "\n",
    "+ https://numpy.org/devdocs/reference/random/generated/numpy.random.Generator.integers.html"
   ]
  },
  {
   "cell_type": "code",
   "execution_count": null,
   "id": "1b994b07",
   "metadata": {},
   "outputs": [],
   "source": []
  }
 ],
 "metadata": {
  "kernelspec": {
   "display_name": "Python 3 (ipykernel)",
   "language": "python",
   "name": "python3"
  },
  "language_info": {
   "codemirror_mode": {
    "name": "ipython",
    "version": 3
   },
   "file_extension": ".py",
   "mimetype": "text/x-python",
   "name": "python",
   "nbconvert_exporter": "python",
   "pygments_lexer": "ipython3",
   "version": "3.11.5"
  }
 },
 "nbformat": 4,
 "nbformat_minor": 5
}
