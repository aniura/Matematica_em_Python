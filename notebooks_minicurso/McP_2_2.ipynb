{
 "cells": [
  {
   "cell_type": "markdown",
   "id": "0d24ffff",
   "metadata": {},
   "source": [
    "# Minicurso: Matemática com Python\n",
    "\n",
    "\n",
    "## Parte 2 do segundo encontro: \n",
    " \n",
    "\n",
    "Conteúdos:\n",
    "\n",
    "\n",
    "[1.Nosso objetivo.](#sec1)\n",
    "\n",
    "\n",
    "[2. Configurações iniciais.](#sec2)\n",
    "\n",
    "\n",
    "[3. Contração/dilatação homogênea.](#sec3)\n",
    "\n",
    "\n",
    "[4. Rotações no plano.](#sec4)\n",
    "\n",
    "\n",
    "[5. Rotações e contrações de um quadrado.](#sec5)\n",
    "\n",
    "\n",
    "[6.Referências.](#sec6)"
   ]
  },
  {
   "cell_type": "markdown",
   "id": "4e0e00cc",
   "metadata": {},
   "source": [
    "<div id=\"sec1\"></div> \n",
    "\n",
    "## 1. Nosso objetivo.\n",
    "\n",
    "<img src=\"imagens/ilusao_otica.svg\" alt=\"Drawing\" style=\"width: 500px;\"/>\n",
    "\n",
    "A imagem acima foi criada usando ferramentas de Python. Neste encontro resolveremos várias tarefas que nos permitirão construir o código que foi usado para criá-la."
   ]
  },
  {
   "cell_type": "markdown",
   "id": "2ec21794",
   "metadata": {},
   "source": [
    "<div id=\"sec2\"></div> \n",
    "\n",
    "## 2. Configurações iniciais."
   ]
  },
  {
   "cell_type": "code",
   "execution_count": null,
   "id": "8d3affd1",
   "metadata": {},
   "outputs": [],
   "source": [
    "#Importamos as bibliotecas que usaremos.\n",
    "import numpy as np\n",
    "import matplotlib.pyplot as plt"
   ]
  },
  {
   "cell_type": "markdown",
   "id": "327efc59",
   "metadata": {},
   "source": [
    "<div id=\"sec3\"></div> \n",
    "\n",
    "## 3. Contração/dilatação homogênea."
   ]
  },
  {
   "cell_type": "markdown",
   "id": "e6e203db",
   "metadata": {},
   "source": [
    "Se multiplicarmos as coordenadas de um vetor por uma constante $\\lambda$, obteremos um novo vetor colinear com módulo maior ou menor que o vetor original, dependendo de se $|\\lambda|>1$ (dilatação) ou $|\\lambda|<1$ (contração)."
   ]
  },
  {
   "cell_type": "code",
   "execution_count": null,
   "id": "ddc29e59",
   "metadata": {},
   "outputs": [],
   "source": [
    "#Parâmetros da figura\n",
    "figsize = (5, 5)#Tamanho da figura em polegadas\n",
    "\n",
    "#Criar os objetos fig e ax\n",
    "#ax: Instância de Axes: Interface que controla o que plotamos \n",
    "#dentro de cada quadradinho\n",
    "\n",
    "fig, ax = plt.subplots(figsize=figsize)\n",
    "\n",
    "#Parâmetros dos gráficos (propriedades de \"ax\")\n",
    "ax.axis('square')\n",
    "ax.set_xlim([-1,9])\n",
    "ax.set_ylim([-1,9])\n",
    "ax.set_ylabel('y')\n",
    "ax.set_xlabel('x')\n",
    "ax.set_title('Mudanças de escala')\n",
    "\n",
    "#Calcular os pontos\n",
    "pontos = np.array([2**(i-1)*np.array([4,4]) for i in range(3)]).T\n",
    "\n",
    "#Plotar os pontos\n",
    "plt.plot(pontos[0,0], pontos[1,0], marker='o', markersize=5, \n",
    "         color = 'tab:blue', ls = '', label = r'$\\overrightarrow{OP_1} = \\frac{1}{2}\\overrightarrow{OP}$')\n",
    "plt.plot(pontos[0,1], pontos[1,1], marker='o', markersize=5, color = 'tab:blue', ls = '')\n",
    "plt.plot(0, 0, marker='o', markersize=5, color = 'tab:blue', ls = '')\n",
    "plt.plot(pontos[0,2], pontos[1,2], marker='o', markersize=5, \n",
    "         color = 'tab:blue', ls = '', label = r'$\\overrightarrow{OP_2} = 2\\overrightarrow{OP}$')\n",
    "\n",
    "#Plotar a linha\n",
    "plt.plot([0, pontos[0,2]], [0, pontos[1,2]],  \n",
    "         color = 'tab:blue', ls = '-', lw =1)\n",
    "\n",
    "#Nomes dos pontos\n",
    "ax.annotate(r'$O$', (0.15, 0.15), fontsize=10)\n",
    "ax.annotate(r'$P$', (4.15, 4.15), fontsize=10)\n",
    "ax.annotate(r'$P_1$', (pontos[0,0]+0.15, pontos[1,0]+0.15), fontsize=10)\n",
    "ax.annotate(r'$P_2$', (pontos[0,2]+0.15, pontos[1,2]+0.15), fontsize=10)\n",
    "\n",
    "ax.grid()\n",
    "ax.legend();"
   ]
  },
  {
   "cell_type": "markdown",
   "id": "bd9c64cd",
   "metadata": {},
   "source": [
    "<div id=\"sec4\"></div> \n",
    "\n",
    "## 4. Rotações no plano."
   ]
  },
  {
   "cell_type": "markdown",
   "id": "c19ea768",
   "metadata": {},
   "source": [
    "Suponha que o ponto de coordenadas $(x', y')$ é obtido rotacionando o ponto de coordenadas $(x,y)$, no sentido anti-horário, como mostra a figura abaixo.\n",
    "\n",
    "<img src=\"imagens/explic_rot.png\" alt=\"Drawing\" style=\"width: 550px;\"/>\n",
    "\n",
    "Como $(x,y)$ forma um ângulo $\\beta$ com o eixo horizontal temos que $x = r \\cos \\beta$ e $y = r \\text{ sen } \\beta$. Além disso, $(x',y')$ forma um ângulo $\\alpha + \\beta$ com o eixo horizontal, portanto,\n",
    "\n",
    "$\\begin{align*}\n",
    "x' & = r \\cos (\\alpha + \\beta)  = r \\cos \\alpha \\cos \\beta - r \\text{ sen } \\alpha \\text{ sen } \\beta= (r \\cos \\beta) \\cos \\alpha  - (r \\text{ sen } \\beta) \\text{ sen } \\alpha = x \\cos \\alpha - y\\text{ sen } \\alpha\\\\\n",
    "y' & = r \\text{ sen } (\\alpha + \\beta)  = r \\text{ sen } \\alpha \\cos \\beta + r \\cos \\alpha \\text{ sen } \\beta= (r \\cos \\beta) \\text{ sen } \\alpha  + (r \\text{ sen } \\beta) \\cos \\alpha = x \\text{ sen } \\alpha + y  \\cos \\alpha.\n",
    "\\end{align*}$\n",
    "\n",
    "Assim, obtemos que\n",
    "$$\\begin{bmatrix} x'\\\\y'\\end{bmatrix} = \\begin{bmatrix} \\cos \\alpha & - \\text{ sen } \\alpha \\\\\\text{ sen } \\alpha & \\cos \\alpha\\end{bmatrix}\\begin{bmatrix} x\\\\y\\end{bmatrix}.$$\n",
    "\n",
    "A matriz $$R_{_\\alpha} = \\begin{bmatrix} \\cos \\alpha & - \\text{ sen } \\alpha \\\\\\text{ sen } \\alpha & \\cos \\alpha\\end{bmatrix}.$$\n",
    "\n",
    "é chamada de **matriz de rotação** no plano.\n",
    "\n",
    "Em Python, podemos definir esta matriz como uma função do ângulo de rotação."
   ]
  },
  {
   "cell_type": "code",
   "execution_count": null,
   "id": "e5bd20f8",
   "metadata": {},
   "outputs": [],
   "source": [
    "#Matriz de rotação\n",
    "def R(angulo):\n",
    "    return np.array([[np.cos(angulo), -np.sin(angulo)],\n",
    "             [np.sin(angulo), np.cos(angulo)]])"
   ]
  },
  {
   "cell_type": "markdown",
   "id": "3ec8a232",
   "metadata": {},
   "source": [
    "A seguir mostramos uma maneira de visualizar a rotação usando essa função. "
   ]
  },
  {
   "cell_type": "code",
   "execution_count": null,
   "id": "ceb904df",
   "metadata": {},
   "outputs": [],
   "source": [
    "#Plotaremos o ponto (4,3), de cor verde e com forma redonda\n",
    "\n",
    "#Parâmetros da figura\n",
    "figsize = (5, 5)#Tamanho da figura em polegadas\n",
    "\n",
    "#Criar os objetos fig e ax\n",
    "#ax: Instância de Axes: Interface que controla o que plotamos \n",
    "#dentro de cada quadradinho\n",
    "\n",
    "fig, ax = plt.subplots(figsize=figsize)\n",
    "\n",
    "#Parâmetros dos gráficos (propriedades de \"ax\")\n",
    "ax.axis('square')\n",
    "ax.set_xlim([-7,7])\n",
    "ax.set_ylim([-7,7])\n",
    "ax.set_ylabel('y')\n",
    "ax.set_xlabel('x')\n",
    "ax.set_title('Rotações de P')\n",
    "\n",
    "#Calcular os pontos\n",
    "pontos = np.array([R(i*4*np.pi/7)@np.array([4,4]) for i in range (3)]).T\n",
    "\n",
    "#Plotar os pontos\n",
    "plt.plot([0,pontos[0,0]], [0,pontos[1,0]], marker='o', markersize=5, \n",
    "         color = 'tab:blue', ls = '--', lw =1)\n",
    "plt.plot([0,pontos[0,1]], [0,pontos[1,1]], marker='o', markersize=5, \n",
    "         color = 'tab:blue', ls = '--', lw =1)\n",
    "plt.plot([0,pontos[0,2]], [0,pontos[1,2]], marker='o', markersize=5, \n",
    "         color = 'tab:blue', ls = '--', lw =1)\n",
    "\n",
    "#Nomes dos pontos\n",
    "ax.annotate(r'$P$', (4.15, 4.15), fontsize=10)\n",
    "ax.annotate(r'$R_{\\theta}P$', (pontos[0,1]+0.15, pontos[1,1]+0.15), fontsize=10)\n",
    "ax.annotate(r'$R_{\\theta}^2P$', (pontos[0,2]+0.15, pontos[1,2]+0.15), fontsize=10)\n",
    "\n",
    "#Nomes dos ângulos\n",
    "ax.annotate(r'$\\theta$', (-0.15, 0.4), fontsize=10)\n",
    "ax.annotate(r'$\\theta$', (-0.6, -0.5), fontsize=10)\n",
    "\n",
    "ax.grid();"
   ]
  },
  {
   "cell_type": "markdown",
   "id": "fcb4c13d",
   "metadata": {},
   "source": [
    "<div id=\"sec5\"></div> \n",
    "\n",
    "## 5. Rotações e contrações de um quadrado."
   ]
  },
  {
   "cell_type": "markdown",
   "id": "99ea3f0f",
   "metadata": {},
   "source": [
    "O comando `Rectangle` nos permite contrair e rotacionar quadrados com relativa facilidade."
   ]
  },
  {
   "cell_type": "code",
   "execution_count": null,
   "id": "2f20bd0e",
   "metadata": {
    "scrolled": false
   },
   "outputs": [],
   "source": [
    "#Rotações de um quadrado\n",
    "import matplotlib.patches as mpatches\n",
    "\n",
    "figsize = (7, 7)\n",
    "colunas = 1\n",
    "linhas = 1\n",
    "#Criar os objetos fig e ax\n",
    "fig, ax = plt.subplots(linhas, colunas, figsize=figsize)\n",
    "\n",
    "#Quadrado de vértices (-1,-1), (-1,1), (1,1) e (1,-1).\n",
    "quadrado = plt.Rectangle((-1,-1), 2, 2, fc = 'white', ec = 'tab:blue', lw = 2)\n",
    "ax.add_patch(quadrado)\n",
    "\n",
    "#Quadrado rotacionado alpha = pi/3(60^0).\n",
    "quadrado1 = plt.Rectangle((-1,-1), 2, 2, angle = 60, rotation_point = 'center', \n",
    "                          fc = 'white', ec = 'tab:green', lw = 2)\n",
    "ax.add_patch(quadrado1)\n",
    "\n",
    "#Quadrado rotacionado alpha = 2pi/3(120^0).   \n",
    "quadrado2 = plt.Rectangle((-1,-1), 2, 2, angle = 120, rotation_point = 'center', \n",
    "                          fc = 'white', ec = 'tab:red', lw = 2)\n",
    "ax.add_patch(quadrado2)\n",
    "\n",
    "#Mais configurações\n",
    "#ax.axis('square')\n",
    "ax.axis([-2,2,-2,2])\n",
    "ax.grid()\n",
    "#ax.axis('off')\n",
    "   \n",
    "plt.show()"
   ]
  },
  {
   "cell_type": "code",
   "execution_count": null,
   "id": "f18e9768",
   "metadata": {
    "scrolled": false
   },
   "outputs": [],
   "source": [
    "#Contrações e rotações de um quadrado\n",
    "#import matplotlib.patches as mpatches\n",
    "\n",
    "figsize = (7, 7)\n",
    "colunas = 1\n",
    "linhas = 1\n",
    "#Criar os objetos fig e ax\n",
    "fig, ax = plt.subplots(linhas, colunas, figsize=figsize)\n",
    "\n",
    "#Quadrado unindo os pontos (-1,-1), (-1,1), (1,1) e (1,-1).\n",
    "quadrado = plt.Rectangle((-1,-1), 2, 2, fc = 'white', ec = 'tab:blue', lw = 2)\n",
    "ax.add_patch(quadrado)\n",
    "\n",
    "#Quadrado rotacionado alpha = pi/3(60) e contraído usando fator1.\n",
    "fator1 = 0.8   \n",
    "quadrado1 = plt.Rectangle((-fator1,-fator1), fator1*2, fator1*2, angle = 60, rotation_point = 'center', \n",
    "                          fc = 'white', ec = 'tab:green', lw = 2)\n",
    "ax.add_patch(quadrado1)\n",
    "\n",
    "#Quadrado rotacionado alpha = 2pi/3 e contraído usando fator2.\n",
    "fator2 = 0.6   \n",
    "quadrado2 = plt.Rectangle((-fator2,-fator2), fator2*2, fator2*2, angle = 120, rotation_point = 'center', \n",
    "                          fc = 'white', ec = 'tab:red', lw = 2)\n",
    "ax.add_patch(quadrado2)\n",
    "\n",
    "#Mais configurações\n",
    "#ax.axis('square')\n",
    "ax.axis([-1.2,1.2,-1.2,1.2])\n",
    "ax.grid()\n",
    "#ax.axis('off')\n",
    "   \n",
    "plt.show()"
   ]
  },
  {
   "cell_type": "markdown",
   "id": "a1130e72",
   "metadata": {},
   "source": [
    "Resta apenas entender qual é o fator que garante que o vértice do quadrado contraído está sobre o lado do quadrado anterior, se o ângulo de rotação é $\\alpha$. A figura abaixo nos dá a resposta.\n",
    "\n",
    "<img src=\"imagens/explic_fator.png\" alt=\"Drawing\" style=\"width: 550px;\"/>\n",
    "\n",
    "Portanto, \n",
    "\n",
    "$$k = \\frac{1}{\\cos(\\alpha) + \\text{ sen}(\\alpha)}.$$\n",
    "\n",
    "Vejamos como funciona essa ideia na figura acima."
   ]
  },
  {
   "cell_type": "code",
   "execution_count": null,
   "id": "cf2152b5",
   "metadata": {},
   "outputs": [],
   "source": [
    "#Contrações e rotações de um quadrado (k modificado)\n",
    "import matplotlib.patches as mpatches\n",
    "\n",
    "figsize = (7, 7)\n",
    "colunas = 1\n",
    "linhas = 1\n",
    "#Criar os objetos fig e ax\n",
    "fig, ax = plt.subplots(linhas, colunas, figsize=figsize)\n",
    "\n",
    "#Quadrado unindo os pontos (-1,-1), (-1,1), (1,1) e (1,-1).\n",
    "quadrado = plt.Rectangle((-1,-1), 2, 2, fc = 'white', ec = 'tab:blue', lw = 2)\n",
    "ax.add_patch(quadrado)\n",
    "\n",
    "#Quadrado rotacionado alpha = pi/3(60) e contraído usando fator1.\n",
    "fator1 = 1/(np.cos(np.pi/3) + np.sin(np.pi/3))   \n",
    "quadrado1 = plt.Rectangle((-fator1,-fator1), fator1*2, fator1*2, angle = 60, \n",
    "                          rotation_point = 'center', fc = 'white', ec = 'tab:green', lw = 2)\n",
    "ax.add_patch(quadrado1)\n",
    "\n",
    "#Quadrado rotacionado alpha = 2pi/3 e contraído usando fator2.\n",
    "fator2 = fator1**2  \n",
    "quadrado2 = plt.Rectangle((-fator2,-fator2), fator2*2, fator2*2, angle = 120, \n",
    "                          rotation_point = 'center', fc = 'white', ec = 'tab:red', lw = 2)\n",
    "ax.add_patch(quadrado2)\n",
    "\n",
    "#Mais configurações\n",
    "#ax.axis('square')\n",
    "ax.axis([-1.2,1.2,-1.2,1.2])\n",
    "ax.grid()\n",
    "#ax.axis('off')\n",
    "   \n",
    "plt.show()"
   ]
  },
  {
   "cell_type": "markdown",
   "id": "efd9381d",
   "metadata": {},
   "source": [
    "### Agora deve estar bem mais claro como foi feita a figura inicial certo?"
   ]
  },
  {
   "cell_type": "markdown",
   "id": "cc5f28ff",
   "metadata": {},
   "source": [
    "<div id=\"sec6\"></div> \n",
    "\n",
    "## 6. Referências.\n",
    "\n",
    "+ https://matplotlib.org/stable/api/_as_gen/matplotlib.patches.RegularPolygon.html#matplotlib.patches.RegularPolygon\n",
    "\n",
    "+ [Matriz de rotaçao na Wikipedia](https://pt.wikipedia.org/wiki/Matriz_de_rota%C3%A7%C3%A3o)."
   ]
  },
  {
   "cell_type": "code",
   "execution_count": null,
   "id": "e4ffda96",
   "metadata": {},
   "outputs": [],
   "source": []
  }
 ],
 "metadata": {
  "kernelspec": {
   "display_name": "Python 3 (ipykernel)",
   "language": "python",
   "name": "python3"
  },
  "language_info": {
   "codemirror_mode": {
    "name": "ipython",
    "version": 3
   },
   "file_extension": ".py",
   "mimetype": "text/x-python",
   "name": "python",
   "nbconvert_exporter": "python",
   "pygments_lexer": "ipython3",
   "version": "3.11.5"
  }
 },
 "nbformat": 4,
 "nbformat_minor": 5
}
